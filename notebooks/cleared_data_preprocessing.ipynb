{
 "cells": [
  {
   "cell_type": "markdown",
   "metadata": {},
   "source": [
    "# Библиотеки"
   ]
  },
  {
   "cell_type": "code",
   "execution_count": 338,
   "metadata": {},
   "outputs": [],
   "source": [
    "from IPython.display import Image\n",
    "\n",
    "import os\n",
    "from dotenv import load_dotenv\n",
    "from sqlalchemy import create_engine\n",
    "\n",
    "import pandas as pd\n",
    "import numpy as np\n",
    "import seaborn as sns\n",
    "import scipy.stats as st\n",
    "\n",
    "from sklearn.preprocessing import PowerTransformer"
   ]
  },
  {
   "cell_type": "markdown",
   "metadata": {},
   "source": [
    "# Загрузка данных"
   ]
  },
  {
   "cell_type": "code",
   "execution_count": 339,
   "metadata": {},
   "outputs": [
    {
     "data": {
      "text/plain": [
       "True"
      ]
     },
     "execution_count": 339,
     "metadata": {},
     "output_type": "execute_result"
    }
   ],
   "source": [
    "load_dotenv()"
   ]
  },
  {
   "cell_type": "code",
   "execution_count": 340,
   "metadata": {},
   "outputs": [],
   "source": [
    "engine = create_engine(os.getenv('POSTGRESQL_KEY'))\n",
    "connection = engine.connect()"
   ]
  },
  {
   "cell_type": "code",
   "execution_count": 341,
   "metadata": {},
   "outputs": [],
   "source": [
    "train = pd.read_sql(\n",
    "    '''\n",
    "    SELECT *\n",
    "    FROM train_data\n",
    "    ''', \n",
    "    con=connection\n",
    ")\n",
    "\n",
    "test = pd.read_sql(\n",
    "    '''\n",
    "    SELECT *\n",
    "    FROM test_data\n",
    "    ''', \n",
    "    con=connection\n",
    ")"
   ]
  },
  {
   "cell_type": "code",
   "execution_count": 342,
   "metadata": {},
   "outputs": [],
   "source": [
    "connection.close()"
   ]
  },
  {
   "cell_type": "markdown",
   "metadata": {},
   "source": [
    "# Data overview"
   ]
  },
  {
   "cell_type": "code",
   "execution_count": 343,
   "metadata": {},
   "outputs": [
    {
     "name": "stdout",
     "output_type": "stream",
     "text": [
      "<class 'pandas.core.frame.DataFrame'>\n",
      "RangeIndex: 100000 entries, 0 to 99999\n",
      "Data columns (total 28 columns):\n",
      " #   Column                    Non-Null Count   Dtype  \n",
      "---  ------                    --------------   -----  \n",
      " 0   ID                        100000 non-null  object \n",
      " 1   Customer_ID               100000 non-null  object \n",
      " 2   Month                     100000 non-null  object \n",
      " 3   Name                      90015 non-null   object \n",
      " 4   Age                       100000 non-null  object \n",
      " 5   SSN                       100000 non-null  object \n",
      " 6   Occupation                100000 non-null  object \n",
      " 7   Annual_Income             100000 non-null  object \n",
      " 8   Monthly_Inhand_Salary     84998 non-null   float64\n",
      " 9   Num_Bank_Accounts         100000 non-null  int64  \n",
      " 10  Num_Credit_Card           100000 non-null  int64  \n",
      " 11  Interest_Rate             100000 non-null  int64  \n",
      " 12  Num_of_Loan               100000 non-null  object \n",
      " 13  Type_of_Loan              88592 non-null   object \n",
      " 14  Delay_from_due_date       100000 non-null  int64  \n",
      " 15  Num_of_Delayed_Payment    92998 non-null   object \n",
      " 16  Changed_Credit_Limit      100000 non-null  object \n",
      " 17  Num_Credit_Inquiries      98035 non-null   float64\n",
      " 18  Credit_Mix                100000 non-null  object \n",
      " 19  Outstanding_Debt          100000 non-null  object \n",
      " 20  Credit_Utilization_Ratio  100000 non-null  float64\n",
      " 21  Credit_History_Age        90970 non-null   object \n",
      " 22  Payment_of_Min_Amount     100000 non-null  object \n",
      " 23  Total_EMI_per_month       100000 non-null  float64\n",
      " 24  Amount_invested_monthly   95521 non-null   object \n",
      " 25  Payment_Behaviour         100000 non-null  object \n",
      " 26  Monthly_Balance           98800 non-null   object \n",
      " 27  Credit_Score              100000 non-null  object \n",
      "dtypes: float64(4), int64(4), object(20)\n",
      "memory usage: 21.4+ MB\n"
     ]
    }
   ],
   "source": [
    "train.info()"
   ]
  },
  {
   "cell_type": "markdown",
   "metadata": {},
   "source": [
    "### Относительно небольшое количество пропусков"
   ]
  },
  {
   "cell_type": "code",
   "execution_count": 344,
   "metadata": {},
   "outputs": [
    {
     "data": {
      "text/html": [
       "<div>\n",
       "<style scoped>\n",
       "    .dataframe tbody tr th:only-of-type {\n",
       "        vertical-align: middle;\n",
       "    }\n",
       "\n",
       "    .dataframe tbody tr th {\n",
       "        vertical-align: top;\n",
       "    }\n",
       "\n",
       "    .dataframe thead th {\n",
       "        text-align: right;\n",
       "    }\n",
       "</style>\n",
       "<table border=\"1\" class=\"dataframe\">\n",
       "  <thead>\n",
       "    <tr style=\"text-align: right;\">\n",
       "      <th></th>\n",
       "      <th>Monthly_Inhand_Salary</th>\n",
       "      <th>Num_Bank_Accounts</th>\n",
       "      <th>Num_Credit_Card</th>\n",
       "      <th>Interest_Rate</th>\n",
       "      <th>Delay_from_due_date</th>\n",
       "      <th>Num_Credit_Inquiries</th>\n",
       "      <th>Credit_Utilization_Ratio</th>\n",
       "      <th>Total_EMI_per_month</th>\n",
       "    </tr>\n",
       "  </thead>\n",
       "  <tbody>\n",
       "    <tr>\n",
       "      <th>count</th>\n",
       "      <td>84998.000000</td>\n",
       "      <td>100000.000000</td>\n",
       "      <td>100000.00000</td>\n",
       "      <td>100000.000000</td>\n",
       "      <td>100000.000000</td>\n",
       "      <td>98035.000000</td>\n",
       "      <td>100000.000000</td>\n",
       "      <td>100000.000000</td>\n",
       "    </tr>\n",
       "    <tr>\n",
       "      <th>mean</th>\n",
       "      <td>4194.170850</td>\n",
       "      <td>17.091280</td>\n",
       "      <td>22.47443</td>\n",
       "      <td>72.466040</td>\n",
       "      <td>21.068780</td>\n",
       "      <td>27.754251</td>\n",
       "      <td>32.285173</td>\n",
       "      <td>1403.118217</td>\n",
       "    </tr>\n",
       "    <tr>\n",
       "      <th>std</th>\n",
       "      <td>3183.686167</td>\n",
       "      <td>117.404834</td>\n",
       "      <td>129.05741</td>\n",
       "      <td>466.422621</td>\n",
       "      <td>14.860104</td>\n",
       "      <td>193.177339</td>\n",
       "      <td>5.116875</td>\n",
       "      <td>8306.041270</td>\n",
       "    </tr>\n",
       "    <tr>\n",
       "      <th>min</th>\n",
       "      <td>303.645417</td>\n",
       "      <td>-1.000000</td>\n",
       "      <td>0.00000</td>\n",
       "      <td>1.000000</td>\n",
       "      <td>-5.000000</td>\n",
       "      <td>0.000000</td>\n",
       "      <td>20.000000</td>\n",
       "      <td>0.000000</td>\n",
       "    </tr>\n",
       "    <tr>\n",
       "      <th>25%</th>\n",
       "      <td>1625.568229</td>\n",
       "      <td>3.000000</td>\n",
       "      <td>4.00000</td>\n",
       "      <td>8.000000</td>\n",
       "      <td>10.000000</td>\n",
       "      <td>3.000000</td>\n",
       "      <td>28.052567</td>\n",
       "      <td>30.306660</td>\n",
       "    </tr>\n",
       "    <tr>\n",
       "      <th>50%</th>\n",
       "      <td>3093.745000</td>\n",
       "      <td>6.000000</td>\n",
       "      <td>5.00000</td>\n",
       "      <td>13.000000</td>\n",
       "      <td>18.000000</td>\n",
       "      <td>6.000000</td>\n",
       "      <td>32.305784</td>\n",
       "      <td>69.249473</td>\n",
       "    </tr>\n",
       "    <tr>\n",
       "      <th>75%</th>\n",
       "      <td>5957.448333</td>\n",
       "      <td>7.000000</td>\n",
       "      <td>7.00000</td>\n",
       "      <td>20.000000</td>\n",
       "      <td>28.000000</td>\n",
       "      <td>9.000000</td>\n",
       "      <td>36.496663</td>\n",
       "      <td>161.224249</td>\n",
       "    </tr>\n",
       "    <tr>\n",
       "      <th>max</th>\n",
       "      <td>15204.633333</td>\n",
       "      <td>1798.000000</td>\n",
       "      <td>1499.00000</td>\n",
       "      <td>5797.000000</td>\n",
       "      <td>67.000000</td>\n",
       "      <td>2597.000000</td>\n",
       "      <td>50.000000</td>\n",
       "      <td>82331.000000</td>\n",
       "    </tr>\n",
       "  </tbody>\n",
       "</table>\n",
       "</div>"
      ],
      "text/plain": [
       "       Monthly_Inhand_Salary  Num_Bank_Accounts  Num_Credit_Card  \\\n",
       "count           84998.000000      100000.000000     100000.00000   \n",
       "mean             4194.170850          17.091280         22.47443   \n",
       "std              3183.686167         117.404834        129.05741   \n",
       "min               303.645417          -1.000000          0.00000   \n",
       "25%              1625.568229           3.000000          4.00000   \n",
       "50%              3093.745000           6.000000          5.00000   \n",
       "75%              5957.448333           7.000000          7.00000   \n",
       "max             15204.633333        1798.000000       1499.00000   \n",
       "\n",
       "       Interest_Rate  Delay_from_due_date  Num_Credit_Inquiries  \\\n",
       "count  100000.000000        100000.000000          98035.000000   \n",
       "mean       72.466040            21.068780             27.754251   \n",
       "std       466.422621            14.860104            193.177339   \n",
       "min         1.000000            -5.000000              0.000000   \n",
       "25%         8.000000            10.000000              3.000000   \n",
       "50%        13.000000            18.000000              6.000000   \n",
       "75%        20.000000            28.000000              9.000000   \n",
       "max      5797.000000            67.000000           2597.000000   \n",
       "\n",
       "       Credit_Utilization_Ratio  Total_EMI_per_month  \n",
       "count             100000.000000        100000.000000  \n",
       "mean                  32.285173          1403.118217  \n",
       "std                    5.116875          8306.041270  \n",
       "min                   20.000000             0.000000  \n",
       "25%                   28.052567            30.306660  \n",
       "50%                   32.305784            69.249473  \n",
       "75%                   36.496663           161.224249  \n",
       "max                   50.000000         82331.000000  "
      ]
     },
     "execution_count": 344,
     "metadata": {},
     "output_type": "execute_result"
    }
   ],
   "source": [
    "train.describe()"
   ]
  },
  {
   "cell_type": "code",
   "execution_count": 345,
   "metadata": {},
   "outputs": [
    {
     "data": {
      "text/plain": [
       "ID                           object\n",
       "Customer_ID                  object\n",
       "Month                        object\n",
       "Name                         object\n",
       "Age                          object\n",
       "SSN                          object\n",
       "Occupation                   object\n",
       "Annual_Income                object\n",
       "Monthly_Inhand_Salary       float64\n",
       "Num_Bank_Accounts             int64\n",
       "Num_Credit_Card               int64\n",
       "Interest_Rate                 int64\n",
       "Num_of_Loan                  object\n",
       "Type_of_Loan                 object\n",
       "Delay_from_due_date           int64\n",
       "Num_of_Delayed_Payment       object\n",
       "Changed_Credit_Limit         object\n",
       "Num_Credit_Inquiries        float64\n",
       "Credit_Mix                   object\n",
       "Outstanding_Debt             object\n",
       "Credit_Utilization_Ratio    float64\n",
       "Credit_History_Age           object\n",
       "Payment_of_Min_Amount        object\n",
       "Total_EMI_per_month         float64\n",
       "Amount_invested_monthly      object\n",
       "Payment_Behaviour            object\n",
       "Monthly_Balance              object\n",
       "Credit_Score                 object\n",
       "dtype: object"
      ]
     },
     "execution_count": 345,
     "metadata": {},
     "output_type": "execute_result"
    }
   ],
   "source": [
    "train.dtypes"
   ]
  },
  {
   "cell_type": "markdown",
   "metadata": {},
   "source": [
    "### В датасете неправильно представлены типы данных\n",
    "### Одной из основных задач будет преобразование колонок к нужным типам данных"
   ]
  },
  {
   "cell_type": "markdown",
   "metadata": {},
   "source": [
    "# Работа с пропусками"
   ]
  },
  {
   "cell_type": "markdown",
   "metadata": {},
   "source": [
    "### Monthly_Inhand_Salary - заработок клиента банка в месяц\n",
    "### Посмотрим распределение зарплат"
   ]
  },
  {
   "cell_type": "code",
   "execution_count": 346,
   "metadata": {},
   "outputs": [
    {
     "data": {
      "text/plain": [
       "<Axes: xlabel='Monthly_Inhand_Salary', ylabel='Count'>"
      ]
     },
     "execution_count": 346,
     "metadata": {},
     "output_type": "execute_result"
    },
    {
     "data": {
      "image/png": "[encoded data removed]",
      "text/plain": [
       "<Figure size 640x480 with 1 Axes>"
      ]
     },
     "metadata": {},
     "output_type": "display_data"
    }
   ],
   "source": [
    "sns.histplot(\n",
    "    train['Monthly_Inhand_Salary']\n",
    ")"
   ]
  },
  {
   "cell_type": "markdown",
   "metadata": {},
   "source": [
    "### Распределение похоже на логномарльное\n",
    "### Приведем данные к нормальному распределению"
   ]
  },
  {
   "cell_type": "code",
   "execution_count": 347,
   "metadata": {},
   "outputs": [
    {
     "data": {
      "text/plain": [
       "<Axes: ylabel='Count'>"
      ]
     },
     "execution_count": 347,
     "metadata": {},
     "output_type": "execute_result"
    },
    {
     "data": {
      "image/png": "[encoded data removed]",
      "text/plain": [
       "<Figure size 640x480 with 1 Axes>"
      ]
     },
     "metadata": {},
     "output_type": "display_data"
    }
   ],
   "source": [
    "sns.histplot(\n",
    "    PowerTransformer().fit_transform(\n",
    "        np.array(train['Monthly_Inhand_Salary']).reshape(-1, 1)\n",
    "    )\n",
    ")"
   ]
  },
  {
   "cell_type": "markdown",
   "metadata": {},
   "source": [
    "### Данные, приведенные к нормальному распределению имеют три заметных максимума"
   ]
  },
  {
   "cell_type": "markdown",
   "metadata": {},
   "source": [
    "### Так как зарплата приведена в USD, данная особенность может быть связана с распределением зарплат в Соединенных Штатах"
   ]
  },
  {
   "cell_type": "code",
   "execution_count": 348,
   "metadata": {},
   "outputs": [
    {
     "data": {
      "image/jpeg": "[encoded data removed]",
      "text/plain": [
       "<IPython.core.display.Image object>"
      ]
     },
     "execution_count": 348,
     "metadata": {},
     "output_type": "execute_result"
    }
   ],
   "source": [
    "Image(os.getenv('LOCAL_PATH') + 'salary_distribution.jpeg')"
   ]
  },
  {
   "cell_type": "markdown",
   "metadata": {},
   "source": [
    "### На это графике показано распределение зарплат жителей Америки. Легко заметить, что график похож на тот, что мы получили ранее\n",
    "### Из этого можно сделать вывод, что такое распределение зарплат связано с особенностями распределения в Соединенных Штатах "
   ]
  },
  {
   "cell_type": "markdown",
   "metadata": {},
   "source": [
    "### Изучим медианное значение зарплат для каждой профессии"
   ]
  },
  {
   "cell_type": "code",
   "execution_count": 349,
   "metadata": {},
   "outputs": [
    {
     "data": {
      "text/plain": [
       "<Axes: xlabel='Monthly_Inhand_Salary', ylabel='Occupation'>"
      ]
     },
     "execution_count": 349,
     "metadata": {},
     "output_type": "execute_result"
    },
    {
     "data": {
      "image/png": "[encoded data removed]",
      "text/plain": [
       "<Figure size 640x480 with 1 Axes>"
      ]
     },
     "metadata": {},
     "output_type": "display_data"
    }
   ],
   "source": [
    "sns.barplot(\n",
    "    x=train.groupby('Occupation')['Monthly_Inhand_Salary'].median(),\n",
    "    y=train.groupby('Occupation')['Monthly_Inhand_Salary'].median().index\n",
    ")"
   ]
  },
  {
   "cell_type": "markdown",
   "metadata": {},
   "source": [
    "### Медианные зарплаты примерно равны, следовательно мы можем заполнить пропуски именно этими значениями"
   ]
  },
  {
   "cell_type": "code",
   "execution_count": 350,
   "metadata": {},
   "outputs": [],
   "source": [
    "train['Monthly_Inhand_Salary'].fillna(train.groupby('Occupation')['Monthly_Inhand_Salary'].transform('median'), inplace=True)"
   ]
  },
  {
   "cell_type": "markdown",
   "metadata": {},
   "source": [
    "### Type_of_Loan - цель займа"
   ]
  },
  {
   "cell_type": "code",
   "execution_count": 351,
   "metadata": {},
   "outputs": [
    {
     "data": {
      "text/plain": [
       "Type_of_Loan\n",
       "Not Specified                                                                                                                         1408\n",
       "Credit-Builder Loan                                                                                                                   1280\n",
       "Personal Loan                                                                                                                         1272\n",
       "Debt Consolidation Loan                                                                                                               1264\n",
       "Student Loan                                                                                                                          1240\n",
       "                                                                                                                                      ... \n",
       "Not Specified, Mortgage Loan, Auto Loan, and Payday Loan                                                                                 8\n",
       "Payday Loan, Mortgage Loan, Debt Consolidation Loan, and Student Loan                                                                    8\n",
       "Debt Consolidation Loan, Auto Loan, Personal Loan, Debt Consolidation Loan, Student Loan, and Credit-Builder Loan                        8\n",
       "Student Loan, Auto Loan, Student Loan, Credit-Builder Loan, Home Equity Loan, Debt Consolidation Loan, and Debt Consolidation Loan       8\n",
       "Personal Loan, Auto Loan, Mortgage Loan, Student Loan, and Student Loan                                                                  8\n",
       "Name: count, Length: 6260, dtype: int64"
      ]
     },
     "execution_count": 351,
     "metadata": {},
     "output_type": "execute_result"
    }
   ],
   "source": [
    "train['Type_of_Loan'].value_counts()"
   ]
  },
  {
   "cell_type": "markdown",
   "metadata": {},
   "source": [
    "### Удалим колонку Type_of_Loan, так как ее неудобно обрабатывать"
   ]
  },
  {
   "cell_type": "code",
   "execution_count": 352,
   "metadata": {},
   "outputs": [],
   "source": [
    "train = train.drop('Type_of_Loan', axis=1)"
   ]
  },
  {
   "cell_type": "markdown",
   "metadata": {},
   "source": [
    "### Num_of_Delayed_Payment - Количество просроченных выплат \n",
    "### Этот признак потенциально может испортить кредитный рейтинг клиента, так что заполнять пропуски какими-либо значениями помимо нуля, если мы не знаем количество просроченных выплат, не стоит"
   ]
  },
  {
   "cell_type": "code",
   "execution_count": 353,
   "metadata": {},
   "outputs": [],
   "source": [
    "train['Num_of_Delayed_Payment'].fillna(0, inplace=True)"
   ]
  },
  {
   "cell_type": "markdown",
   "metadata": {},
   "source": [
    "### Num_Credit_Inquiries - Количество запросов по кредитным картам \n",
    "### Credit_History_Age - Количество лет с момента первого кредита\n",
    "### Amount_invested_monthly - Представляет собой ежемесячную сумму, инвестированную клиентом\n",
    "### Monthly_Balance - Cредняя месячная сумма на балансе клиента\n"
   ]
  },
  {
   "cell_type": "markdown",
   "metadata": {},
   "source": [
    "### Так же заполняем пропуски нулями, так как мы ничего не знаем о этих признаках клиента "
   ]
  },
  {
   "cell_type": "code",
   "execution_count": 354,
   "metadata": {},
   "outputs": [],
   "source": [
    "train['Num_Credit_Inquiries'].fillna(0, inplace=True)\n",
    "train['Credit_History_Age'].fillna(0, inplace=True)\n",
    "train['Amount_invested_monthly'].fillna(0, inplace=True)\n",
    "train['Monthly_Balance'].fillna(0, inplace=True)"
   ]
  },
  {
   "cell_type": "markdown",
   "metadata": {},
   "source": [
    "### Name - Имя клиента\n",
    "### Можно заметить, что у нас существует целых 3 колонки, по которым можно идентефицировать клиента - Customer_ID, Name и SSN. Я предлагаю удалить все признаки, с помощью которых мы определяем клиента, кроме SSN"
   ]
  },
  {
   "cell_type": "code",
   "execution_count": 355,
   "metadata": {},
   "outputs": [],
   "source": [
    "train.drop(\n",
    "    ['ID', 'Customer_ID', 'Name'], axis=1, inplace=True\n",
    ")"
   ]
  },
  {
   "cell_type": "markdown",
   "metadata": {},
   "source": [
    "### Приведем тип данных оставшихся численных признаков к int или float"
   ]
  },
  {
   "cell_type": "code",
   "execution_count": 356,
   "metadata": {},
   "outputs": [],
   "source": [
    "train['Amount_invested_monthly'] = pd.to_numeric(train['Amount_invested_monthly'], errors='coerce')"
   ]
  },
  {
   "cell_type": "code",
   "execution_count": 357,
   "metadata": {},
   "outputs": [
    {
     "data": {
      "text/plain": [
       "<Axes: xlabel='Amount_invested_monthly', ylabel='Count'>"
      ]
     },
     "execution_count": 357,
     "metadata": {},
     "output_type": "execute_result"
    },
    {
     "data": {
      "image/png": "[encoded data removed]",
      "text/plain": [
       "<Figure size 640x480 with 1 Axes>"
      ]
     },
     "metadata": {},
     "output_type": "display_data"
    }
   ],
   "source": [
    "sns.histplot(train['Amount_invested_monthly'])"
   ]
  },
  {
   "cell_type": "markdown",
   "metadata": {},
   "source": [
    "### Заметим, что большинство людей не инвестируют ничего, так что мы заполним пропуски именно этим значение"
   ]
  },
  {
   "cell_type": "code",
   "execution_count": 358,
   "metadata": {},
   "outputs": [],
   "source": [
    "train['Amount_invested_monthly'] = train['Amount_invested_monthly'].fillna(st.mode(train['Amount_invested_monthly'])[0])"
   ]
  },
  {
   "cell_type": "markdown",
   "metadata": {},
   "source": [
    "### При заполнение пропусков в колонке со средним балансом каждый месяц мы, фактически, заполняем не пустые значения, а некорректные, так что можем использовать в качестве меры среднего медиану"
   ]
  },
  {
   "cell_type": "code",
   "execution_count": 359,
   "metadata": {},
   "outputs": [],
   "source": [
    "train['Monthly_Balance'] = pd.to_numeric(train['Monthly_Balance'], errors='coerce')\n",
    "train['Monthly_Balance'] = train['Monthly_Balance'].fillna(train['Monthly_Balance'].median())"
   ]
  },
  {
   "cell_type": "markdown",
   "metadata": {},
   "source": [
    "### В остальных примерах такая же ситуация. Мы заполняем пропуски, на месте которых изначально стояли некорректные значения, а не пустые"
   ]
  },
  {
   "cell_type": "code",
   "execution_count": 360,
   "metadata": {},
   "outputs": [],
   "source": [
    "train['Annual_Income'] = pd.to_numeric(train['Annual_Income'], errors='coerce')\n",
    "train['Annual_Income'] = train['Annual_Income'].fillna(train['Annual_Income'].median())"
   ]
  },
  {
   "cell_type": "code",
   "execution_count": 361,
   "metadata": {},
   "outputs": [],
   "source": [
    "train['Credit_History_Age'] = train['Credit_History_Age'].map(lambda x: int(str(x)[0:2]))"
   ]
  },
  {
   "cell_type": "code",
   "execution_count": 362,
   "metadata": {},
   "outputs": [],
   "source": [
    "train['Num_of_Loan'] = pd.to_numeric(train['Num_of_Loan'], errors='coerce')\n",
    "train['Num_of_Loan'] = train['Num_of_Loan'].fillna(train['Num_of_Loan'].median())"
   ]
  },
  {
   "cell_type": "code",
   "execution_count": 363,
   "metadata": {},
   "outputs": [],
   "source": [
    "train[\"Age\"] = pd.to_numeric(train[\"Age\"], errors=\"coerce\")\n",
    "train['Age'] = train['Age'].fillna(train['Age'].median())"
   ]
  },
  {
   "cell_type": "code",
   "execution_count": 364,
   "metadata": {},
   "outputs": [],
   "source": [
    "train['Outstanding_Debt'] = pd.to_numeric(train[\"Outstanding_Debt\"], errors=\"coerce\")\n",
    "train['Outstanding_Debt'] = train['Outstanding_Debt'].fillna(train['Outstanding_Debt'].median())"
   ]
  },
  {
   "cell_type": "markdown",
   "metadata": {},
   "source": [
    "### В колонках с просроченными платежами же стоит заполнить пропуски, образовавшиеся после приведения к вещественному, нулями"
   ]
  },
  {
   "cell_type": "code",
   "execution_count": 365,
   "metadata": {},
   "outputs": [],
   "source": [
    "train[\"Num_of_Delayed_Payment\"] = pd.to_numeric(train[\"Num_of_Delayed_Payment\"], errors=\"coerce\")\n",
    "train['Num_of_Delayed_Payment'] = train['Num_of_Delayed_Payment'].fillna(0)"
   ]
  },
  {
   "cell_type": "markdown",
   "metadata": {},
   "source": [
    "### Процентное изменение лимитов по кредитной карте, в свою очередь, можно заполнить медианным значением, отражающим среднее поведение большинства людей"
   ]
  },
  {
   "cell_type": "code",
   "execution_count": 366,
   "metadata": {},
   "outputs": [],
   "source": [
    "train[\"Changed_Credit_Limit\"] = pd.to_numeric(train[\"Changed_Credit_Limit\"], errors=\"coerce\")\n",
    "train['Changed_Credit_Limit'] = train['Changed_Credit_Limit'].fillna(train['Changed_Credit_Limit'].median())"
   ]
  },
  {
   "cell_type": "markdown",
   "metadata": {},
   "source": [
    "# Преобразование категориальных колонок"
   ]
  },
  {
   "cell_type": "code",
   "execution_count": 367,
   "metadata": {},
   "outputs": [],
   "source": [
    "map_table = {\n",
    "    'January': 1,\n",
    "    'February': 2,\n",
    "    'March': 3,\n",
    "    'April': 4,\n",
    "    'May': 5,\n",
    "    'June': 6,\n",
    "    'July': 7,\n",
    "    'August': 8\n",
    "}\n",
    "\n",
    "train['Month'] = train['Month'].replace(map_table)"
   ]
  },
  {
   "cell_type": "code",
   "execution_count": 368,
   "metadata": {},
   "outputs": [],
   "source": [
    "train['Payment_Behaviour'] = train['Payment_Behaviour'].map(lambda x: 'unknown' if x == '!@9#%8' else x)"
   ]
  },
  {
   "cell_type": "markdown",
   "metadata": {},
   "source": [
    "### Количество уникальных значений признака, показывающего работу, слишком большое что бы применять OHE, а MeanTargetEncoding нельзя использовать во время инференса, так что я использую похожу на преобразование месяцев схему"
   ]
  },
  {
   "cell_type": "code",
   "execution_count": 369,
   "metadata": {},
   "outputs": [],
   "source": [
    "train['Occupation'] = train['Occupation'].map(lambda x: 'unknown' if x == '_______' else x)"
   ]
  },
  {
   "cell_type": "code",
   "execution_count": 370,
   "metadata": {},
   "outputs": [],
   "source": [
    "occupation_map_table = {k: v for v, k in enumerate(train['Occupation'].unique())}"
   ]
  },
  {
   "cell_type": "code",
   "execution_count": 371,
   "metadata": {},
   "outputs": [],
   "source": [
    "train['Occupation'] = train['Occupation'].replace(occupation_map_table)"
   ]
  },
  {
   "cell_type": "markdown",
   "metadata": {},
   "source": [
    "### А вот признак, показывающий была ли выплачена лицом только минимальная сумма, идеально подходит для OHE"
   ]
  },
  {
   "cell_type": "code",
   "execution_count": 372,
   "metadata": {},
   "outputs": [],
   "source": [
    "train = pd.concat((train.drop('Payment_of_Min_Amount', axis=1), pd.get_dummies(train['Payment_of_Min_Amount'], dtype=int)), axis=1)"
   ]
  },
  {
   "cell_type": "markdown",
   "metadata": {},
   "source": [
    "### Так же как и фича, отражающая платежное поведение клиента"
   ]
  },
  {
   "cell_type": "code",
   "execution_count": 373,
   "metadata": {},
   "outputs": [],
   "source": [
    "map_for_behaviour = {k: idx for idx, k in enumerate(train['Payment_Behaviour'].unique())}"
   ]
  },
  {
   "cell_type": "code",
   "execution_count": 374,
   "metadata": {},
   "outputs": [],
   "source": [
    "train['Payment_Behaviour'] = train['Payment_Behaviour'].replace(map_for_behaviour)"
   ]
  },
  {
   "cell_type": "markdown",
   "metadata": {},
   "source": [
    "### Произведем те же операции и с средним кредитным рейтингом по предыдущим запросам"
   ]
  },
  {
   "cell_type": "code",
   "execution_count": 375,
   "metadata": {},
   "outputs": [],
   "source": [
    "train['Credit_Mix'] = train['Credit_Mix'].map(lambda x: 'NoData' if x == '_' else x)"
   ]
  },
  {
   "cell_type": "code",
   "execution_count": 376,
   "metadata": {},
   "outputs": [],
   "source": [
    "train = pd.concat((train.drop('Credit_Mix', axis=1), pd.get_dummies(train['Credit_Mix'], dtype=int)), axis=1)"
   ]
  },
  {
   "cell_type": "markdown",
   "metadata": {},
   "source": [
    "### Удалим колонку с неизвестным кредитный миксом воизбежание мультиколлениарности "
   ]
  },
  {
   "cell_type": "code",
   "execution_count": 377,
   "metadata": {},
   "outputs": [],
   "source": [
    "train = train.drop('NoData', axis=1)"
   ]
  },
  {
   "cell_type": "markdown",
   "metadata": {},
   "source": [
    "### Важно закодировать значение тагрета, чтобы мы могли работать с ним. Всего у нас будет три класса:\n",
    "### 0 - Poor\n",
    "### 1 - Standard\n",
    "### 2 - Good"
   ]
  },
  {
   "cell_type": "code",
   "execution_count": 378,
   "metadata": {},
   "outputs": [],
   "source": [
    "target_map = {\n",
    "    'Poor': 0,\n",
    "    'Standard': 1,\n",
    "    'Good': 2\n",
    "}\n",
    "\n",
    "train['Credit_Score'] = train['Credit_Score'].replace(target_map)"
   ]
  },
  {
   "cell_type": "markdown",
   "metadata": {},
   "source": [
    "# Работа с выбросами"
   ]
  },
  {
   "cell_type": "markdown",
   "metadata": {},
   "source": [
    "### Я предлогаю написать функцию, которая будет удалять значения, которых не существует в реальной жизни. После удаления мы будет заполнять колонки мерами среднего"
   ]
  },
  {
   "cell_type": "code",
   "execution_count": 379,
   "metadata": {},
   "outputs": [],
   "source": [
    "def clear_column(column: pd.Series, values_normal_values: list) -> pd.Series:\n",
    "    new_column = np.array([])\n",
    "\n",
    "    for value in column:\n",
    "        if value in values_normal_values:\n",
    "            new_column = np.append(new_column, value)\n",
    "        \n",
    "        else:\n",
    "            new_column = np.append(new_column, pd.NA)\n",
    "\n",
    "    return pd.Series(new_column)"
   ]
  },
  {
   "cell_type": "markdown",
   "metadata": {},
   "source": [
    "### Теперь проведем такую фильтрацию в нужных колонках, а так же заполним неопределенные значения"
   ]
  },
  {
   "cell_type": "code",
   "execution_count": 380,
   "metadata": {},
   "outputs": [
    {
     "data": {
      "text/plain": [
       "<Axes: ylabel='Age'>"
      ]
     },
     "execution_count": 380,
     "metadata": {},
     "output_type": "execute_result"
    },
    {
     "data": {
      "image/png": "[encoded data removed]",
      "text/plain": [
       "<Figure size 640x480 with 1 Axes>"
      ]
     },
     "metadata": {},
     "output_type": "display_data"
    }
   ],
   "source": [
    "sns.boxplot(train['Age'])"
   ]
  },
  {
   "cell_type": "markdown",
   "metadata": {},
   "source": [
    "### Можно заметить что выбросов в колонке с возрастом достаточно много. Удалим их и заменим на медианное значение"
   ]
  },
  {
   "cell_type": "code",
   "execution_count": 381,
   "metadata": {},
   "outputs": [],
   "source": [
    "train['Age'] = clear_column(train['Age'], list(range(1, 100)))\n",
    "train['Age'] = train['Age'].fillna(train['Age'].median())"
   ]
  },
  {
   "cell_type": "markdown",
   "metadata": {},
   "source": [
    "### Проверим количество отрицательно просроченных платежей в среднем"
   ]
  },
  {
   "cell_type": "code",
   "execution_count": 382,
   "metadata": {},
   "outputs": [
    {
     "data": {
      "text/plain": [
       "591"
      ]
     },
     "execution_count": 382,
     "metadata": {},
     "output_type": "execute_result"
    }
   ],
   "source": [
    "train[train['Delay_from_due_date'] < 0]['Delay_from_due_date'].count()"
   ]
  },
  {
   "cell_type": "markdown",
   "metadata": {},
   "source": [
    "### Занулим значения"
   ]
  },
  {
   "cell_type": "code",
   "execution_count": 383,
   "metadata": {},
   "outputs": [],
   "source": [
    "train['Delay_from_due_date'] = clear_column(train['Delay_from_due_date'], list(range(0, max(train['Delay_from_due_date'].values))))\n",
    "train['Delay_from_due_date'] = train['Delay_from_due_date'].fillna(0)"
   ]
  },
  {
   "cell_type": "markdown",
   "metadata": {},
   "source": [
    "# Корреляционный отбор признаков"
   ]
  },
  {
   "cell_type": "code",
   "execution_count": 384,
   "metadata": {},
   "outputs": [
    {
     "data": {
      "text/html": [
       "<div>\n",
       "<style scoped>\n",
       "    .dataframe tbody tr th:only-of-type {\n",
       "        vertical-align: middle;\n",
       "    }\n",
       "\n",
       "    .dataframe tbody tr th {\n",
       "        vertical-align: top;\n",
       "    }\n",
       "\n",
       "    .dataframe thead th {\n",
       "        text-align: right;\n",
       "    }\n",
       "</style>\n",
       "<table border=\"1\" class=\"dataframe\">\n",
       "  <thead>\n",
       "    <tr style=\"text-align: right;\">\n",
       "      <th></th>\n",
       "      <th>Month</th>\n",
       "      <th>Age</th>\n",
       "      <th>Occupation</th>\n",
       "      <th>Annual_Income</th>\n",
       "      <th>Monthly_Inhand_Salary</th>\n",
       "      <th>Num_Bank_Accounts</th>\n",
       "      <th>Num_Credit_Card</th>\n",
       "      <th>Interest_Rate</th>\n",
       "      <th>Num_of_Loan</th>\n",
       "      <th>Delay_from_due_date</th>\n",
       "      <th>...</th>\n",
       "      <th>Amount_invested_monthly</th>\n",
       "      <th>Payment_Behaviour</th>\n",
       "      <th>Monthly_Balance</th>\n",
       "      <th>Credit_Score</th>\n",
       "      <th>NM</th>\n",
       "      <th>No</th>\n",
       "      <th>Yes</th>\n",
       "      <th>Bad</th>\n",
       "      <th>Good</th>\n",
       "      <th>Standard</th>\n",
       "    </tr>\n",
       "  </thead>\n",
       "  <tbody>\n",
       "    <tr>\n",
       "      <th>Month</th>\n",
       "      <td>1.000000</td>\n",
       "      <td>0.015086</td>\n",
       "      <td>-0.000722</td>\n",
       "      <td>-0.000146</td>\n",
       "      <td>-0.002153</td>\n",
       "      <td>-0.001206</td>\n",
       "      <td>0.000223</td>\n",
       "      <td>0.000696</td>\n",
       "      <td>-0.002064</td>\n",
       "      <td>0.000537</td>\n",
       "      <td>...</td>\n",
       "      <td>0.001613</td>\n",
       "      <td>-0.000027</td>\n",
       "      <td>-0.002055</td>\n",
       "      <td>0.014433</td>\n",
       "      <td>-0.002719</td>\n",
       "      <td>0.001827</td>\n",
       "      <td>0.000017</td>\n",
       "      <td>-0.001764</td>\n",
       "      <td>0.001368</td>\n",
       "      <td>-0.000966</td>\n",
       "    </tr>\n",
       "    <tr>\n",
       "      <th>Age</th>\n",
       "      <td>0.015086</td>\n",
       "      <td>1.000000</td>\n",
       "      <td>0.010963</td>\n",
       "      <td>0.071436</td>\n",
       "      <td>0.063340</td>\n",
       "      <td>-0.160054</td>\n",
       "      <td>-0.117934</td>\n",
       "      <td>-0.181121</td>\n",
       "      <td>-0.165175</td>\n",
       "      <td>-0.152310</td>\n",
       "      <td>...</td>\n",
       "      <td>0.038562</td>\n",
       "      <td>0.012368</td>\n",
       "      <td>0.109684</td>\n",
       "      <td>0.141240</td>\n",
       "      <td>-0.005756</td>\n",
       "      <td>0.214444</td>\n",
       "      <td>-0.201921</td>\n",
       "      <td>-0.141591</td>\n",
       "      <td>0.160699</td>\n",
       "      <td>-0.027426</td>\n",
       "    </tr>\n",
       "    <tr>\n",
       "      <th>Occupation</th>\n",
       "      <td>-0.000722</td>\n",
       "      <td>0.010963</td>\n",
       "      <td>1.000000</td>\n",
       "      <td>0.004690</td>\n",
       "      <td>0.004877</td>\n",
       "      <td>0.002757</td>\n",
       "      <td>-0.009022</td>\n",
       "      <td>0.003322</td>\n",
       "      <td>-0.006019</td>\n",
       "      <td>-0.005031</td>\n",
       "      <td>...</td>\n",
       "      <td>0.003261</td>\n",
       "      <td>0.004078</td>\n",
       "      <td>0.002321</td>\n",
       "      <td>0.000413</td>\n",
       "      <td>-0.001250</td>\n",
       "      <td>0.002410</td>\n",
       "      <td>-0.001498</td>\n",
       "      <td>-0.010139</td>\n",
       "      <td>-0.007252</td>\n",
       "      <td>0.013713</td>\n",
       "    </tr>\n",
       "    <tr>\n",
       "      <th>Annual_Income</th>\n",
       "      <td>-0.000146</td>\n",
       "      <td>0.071436</td>\n",
       "      <td>0.004690</td>\n",
       "      <td>1.000000</td>\n",
       "      <td>0.863801</td>\n",
       "      <td>-0.244519</td>\n",
       "      <td>-0.178971</td>\n",
       "      <td>-0.258842</td>\n",
       "      <td>-0.201363</td>\n",
       "      <td>-0.222465</td>\n",
       "      <td>...</td>\n",
       "      <td>0.501219</td>\n",
       "      <td>0.163419</td>\n",
       "      <td>0.525733</td>\n",
       "      <td>0.189267</td>\n",
       "      <td>0.001043</td>\n",
       "      <td>0.242409</td>\n",
       "      <td>-0.233167</td>\n",
       "      <td>-0.200448</td>\n",
       "      <td>0.223561</td>\n",
       "      <td>-0.030160</td>\n",
       "    </tr>\n",
       "    <tr>\n",
       "      <th>Monthly_Inhand_Salary</th>\n",
       "      <td>-0.002153</td>\n",
       "      <td>0.063340</td>\n",
       "      <td>0.004877</td>\n",
       "      <td>0.863801</td>\n",
       "      <td>1.000000</td>\n",
       "      <td>-0.224817</td>\n",
       "      <td>-0.165937</td>\n",
       "      <td>-0.241093</td>\n",
       "      <td>-0.185273</td>\n",
       "      <td>-0.206205</td>\n",
       "      <td>...</td>\n",
       "      <td>0.486150</td>\n",
       "      <td>0.160631</td>\n",
       "      <td>0.509619</td>\n",
       "      <td>0.172654</td>\n",
       "      <td>0.002060</td>\n",
       "      <td>0.225226</td>\n",
       "      <td>-0.217348</td>\n",
       "      <td>-0.187383</td>\n",
       "      <td>0.207985</td>\n",
       "      <td>-0.027341</td>\n",
       "    </tr>\n",
       "    <tr>\n",
       "      <th>Num_Bank_Accounts</th>\n",
       "      <td>-0.001206</td>\n",
       "      <td>-0.160054</td>\n",
       "      <td>0.002757</td>\n",
       "      <td>-0.244519</td>\n",
       "      <td>-0.224817</td>\n",
       "      <td>1.000000</td>\n",
       "      <td>0.398657</td>\n",
       "      <td>0.553923</td>\n",
       "      <td>0.394190</td>\n",
       "      <td>0.556410</td>\n",
       "      <td>...</td>\n",
       "      <td>-0.147166</td>\n",
       "      <td>-0.035214</td>\n",
       "      <td>-0.298377</td>\n",
       "      <td>-0.377794</td>\n",
       "      <td>-0.000371</td>\n",
       "      <td>-0.505573</td>\n",
       "      <td>0.485122</td>\n",
       "      <td>0.481192</td>\n",
       "      <td>-0.518922</td>\n",
       "      <td>0.068553</td>\n",
       "    </tr>\n",
       "    <tr>\n",
       "      <th>Num_Credit_Card</th>\n",
       "      <td>0.000223</td>\n",
       "      <td>-0.117934</td>\n",
       "      <td>-0.009022</td>\n",
       "      <td>-0.178971</td>\n",
       "      <td>-0.165937</td>\n",
       "      <td>0.398657</td>\n",
       "      <td>1.000000</td>\n",
       "      <td>0.426859</td>\n",
       "      <td>0.323371</td>\n",
       "      <td>0.421880</td>\n",
       "      <td>...</td>\n",
       "      <td>-0.107428</td>\n",
       "      <td>-0.027004</td>\n",
       "      <td>-0.231949</td>\n",
       "      <td>-0.367471</td>\n",
       "      <td>-0.000452</td>\n",
       "      <td>-0.341223</td>\n",
       "      <td>0.327551</td>\n",
       "      <td>0.415507</td>\n",
       "      <td>-0.298643</td>\n",
       "      <td>-0.069419</td>\n",
       "    </tr>\n",
       "    <tr>\n",
       "      <th>Interest_Rate</th>\n",
       "      <td>0.000696</td>\n",
       "      <td>-0.181121</td>\n",
       "      <td>0.003322</td>\n",
       "      <td>-0.258842</td>\n",
       "      <td>-0.241093</td>\n",
       "      <td>0.553923</td>\n",
       "      <td>0.426859</td>\n",
       "      <td>1.000000</td>\n",
       "      <td>0.451091</td>\n",
       "      <td>0.548391</td>\n",
       "      <td>...</td>\n",
       "      <td>-0.160446</td>\n",
       "      <td>-0.045067</td>\n",
       "      <td>-0.328335</td>\n",
       "      <td>-0.460342</td>\n",
       "      <td>0.004279</td>\n",
       "      <td>-0.568858</td>\n",
       "      <td>0.542790</td>\n",
       "      <td>0.509836</td>\n",
       "      <td>-0.537386</td>\n",
       "      <td>0.063173</td>\n",
       "    </tr>\n",
       "    <tr>\n",
       "      <th>Num_of_Loan</th>\n",
       "      <td>-0.002064</td>\n",
       "      <td>-0.165175</td>\n",
       "      <td>-0.006019</td>\n",
       "      <td>-0.201363</td>\n",
       "      <td>-0.185273</td>\n",
       "      <td>0.394190</td>\n",
       "      <td>0.323371</td>\n",
       "      <td>0.451091</td>\n",
       "      <td>1.000000</td>\n",
       "      <td>0.400669</td>\n",
       "      <td>...</td>\n",
       "      <td>-0.125407</td>\n",
       "      <td>-0.033747</td>\n",
       "      <td>-0.429090</td>\n",
       "      <td>-0.313112</td>\n",
       "      <td>-0.001233</td>\n",
       "      <td>-0.410840</td>\n",
       "      <td>0.394827</td>\n",
       "      <td>0.460341</td>\n",
       "      <td>-0.316614</td>\n",
       "      <td>-0.092124</td>\n",
       "    </tr>\n",
       "    <tr>\n",
       "      <th>Delay_from_due_date</th>\n",
       "      <td>0.000537</td>\n",
       "      <td>-0.152310</td>\n",
       "      <td>-0.005031</td>\n",
       "      <td>-0.222465</td>\n",
       "      <td>-0.206205</td>\n",
       "      <td>0.556410</td>\n",
       "      <td>0.421880</td>\n",
       "      <td>0.548391</td>\n",
       "      <td>0.400669</td>\n",
       "      <td>1.000000</td>\n",
       "      <td>...</td>\n",
       "      <td>-0.139072</td>\n",
       "      <td>-0.035603</td>\n",
       "      <td>-0.289822</td>\n",
       "      <td>-0.437192</td>\n",
       "      <td>0.001652</td>\n",
       "      <td>-0.483829</td>\n",
       "      <td>0.462951</td>\n",
       "      <td>0.515916</td>\n",
       "      <td>-0.470946</td>\n",
       "      <td>-0.000621</td>\n",
       "    </tr>\n",
       "    <tr>\n",
       "      <th>Num_of_Delayed_Payment</th>\n",
       "      <td>0.001977</td>\n",
       "      <td>-0.132573</td>\n",
       "      <td>-0.000195</td>\n",
       "      <td>-0.196956</td>\n",
       "      <td>-0.182243</td>\n",
       "      <td>0.465498</td>\n",
       "      <td>0.313440</td>\n",
       "      <td>0.451557</td>\n",
       "      <td>0.330670</td>\n",
       "      <td>0.451236</td>\n",
       "      <td>...</td>\n",
       "      <td>-0.121099</td>\n",
       "      <td>-0.033900</td>\n",
       "      <td>-0.246167</td>\n",
       "      <td>-0.296424</td>\n",
       "      <td>-0.000688</td>\n",
       "      <td>-0.430580</td>\n",
       "      <td>0.413404</td>\n",
       "      <td>0.421192</td>\n",
       "      <td>-0.449164</td>\n",
       "      <td>0.055874</td>\n",
       "    </tr>\n",
       "    <tr>\n",
       "      <th>Changed_Credit_Limit</th>\n",
       "      <td>-0.001340</td>\n",
       "      <td>-0.135998</td>\n",
       "      <td>-0.003566</td>\n",
       "      <td>-0.140516</td>\n",
       "      <td>-0.132973</td>\n",
       "      <td>0.284472</td>\n",
       "      <td>0.190983</td>\n",
       "      <td>0.323649</td>\n",
       "      <td>0.271903</td>\n",
       "      <td>0.265509</td>\n",
       "      <td>...</td>\n",
       "      <td>-0.088020</td>\n",
       "      <td>-0.024573</td>\n",
       "      <td>-0.186928</td>\n",
       "      <td>-0.154960</td>\n",
       "      <td>0.000139</td>\n",
       "      <td>-0.462483</td>\n",
       "      <td>0.443464</td>\n",
       "      <td>0.170789</td>\n",
       "      <td>-0.356393</td>\n",
       "      <td>0.181427</td>\n",
       "    </tr>\n",
       "    <tr>\n",
       "      <th>Num_Credit_Inquiries</th>\n",
       "      <td>0.129388</td>\n",
       "      <td>-0.211971</td>\n",
       "      <td>-0.010288</td>\n",
       "      <td>-0.235376</td>\n",
       "      <td>-0.218146</td>\n",
       "      <td>0.474147</td>\n",
       "      <td>0.383813</td>\n",
       "      <td>0.560757</td>\n",
       "      <td>0.460451</td>\n",
       "      <td>0.483081</td>\n",
       "      <td>...</td>\n",
       "      <td>-0.142848</td>\n",
       "      <td>-0.040456</td>\n",
       "      <td>-0.318582</td>\n",
       "      <td>-0.407988</td>\n",
       "      <td>0.003099</td>\n",
       "      <td>-0.550085</td>\n",
       "      <td>0.525554</td>\n",
       "      <td>0.472070</td>\n",
       "      <td>-0.417928</td>\n",
       "      <td>-0.011174</td>\n",
       "    </tr>\n",
       "    <tr>\n",
       "      <th>Outstanding_Debt</th>\n",
       "      <td>-0.000066</td>\n",
       "      <td>-0.185106</td>\n",
       "      <td>-0.008663</td>\n",
       "      <td>-0.249567</td>\n",
       "      <td>-0.231795</td>\n",
       "      <td>0.484406</td>\n",
       "      <td>0.436316</td>\n",
       "      <td>0.584020</td>\n",
       "      <td>0.490882</td>\n",
       "      <td>0.515481</td>\n",
       "      <td>...</td>\n",
       "      <td>-0.151612</td>\n",
       "      <td>-0.042083</td>\n",
       "      <td>-0.342722</td>\n",
       "      <td>-0.432487</td>\n",
       "      <td>0.001421</td>\n",
       "      <td>-0.458631</td>\n",
       "      <td>0.438935</td>\n",
       "      <td>0.587433</td>\n",
       "      <td>-0.348171</td>\n",
       "      <td>-0.167175</td>\n",
       "    </tr>\n",
       "    <tr>\n",
       "      <th>Credit_Utilization_Ratio</th>\n",
       "      <td>0.002624</td>\n",
       "      <td>0.020460</td>\n",
       "      <td>-0.000825</td>\n",
       "      <td>0.130602</td>\n",
       "      <td>0.123650</td>\n",
       "      <td>-0.063738</td>\n",
       "      <td>-0.047125</td>\n",
       "      <td>-0.067943</td>\n",
       "      <td>-0.083302</td>\n",
       "      <td>-0.059752</td>\n",
       "      <td>...</td>\n",
       "      <td>0.010504</td>\n",
       "      <td>0.083071</td>\n",
       "      <td>0.197190</td>\n",
       "      <td>0.042162</td>\n",
       "      <td>-0.002520</td>\n",
       "      <td>0.070194</td>\n",
       "      <td>-0.065681</td>\n",
       "      <td>-0.055183</td>\n",
       "      <td>0.065060</td>\n",
       "      <td>-0.013878</td>\n",
       "    </tr>\n",
       "    <tr>\n",
       "      <th>Credit_History_Age</th>\n",
       "      <td>0.018719</td>\n",
       "      <td>0.174745</td>\n",
       "      <td>0.008171</td>\n",
       "      <td>0.209261</td>\n",
       "      <td>0.195654</td>\n",
       "      <td>-0.396372</td>\n",
       "      <td>-0.317879</td>\n",
       "      <td>-0.459657</td>\n",
       "      <td>-0.439103</td>\n",
       "      <td>-0.401483</td>\n",
       "      <td>...</td>\n",
       "      <td>0.128674</td>\n",
       "      <td>0.034802</td>\n",
       "      <td>0.296832</td>\n",
       "      <td>0.329303</td>\n",
       "      <td>0.002983</td>\n",
       "      <td>0.451591</td>\n",
       "      <td>-0.435049</td>\n",
       "      <td>-0.418280</td>\n",
       "      <td>0.348876</td>\n",
       "      <td>0.029660</td>\n",
       "    </tr>\n",
       "    <tr>\n",
       "      <th>Total_EMI_per_month</th>\n",
       "      <td>0.027075</td>\n",
       "      <td>-0.072531</td>\n",
       "      <td>0.000877</td>\n",
       "      <td>0.441441</td>\n",
       "      <td>0.424781</td>\n",
       "      <td>0.111612</td>\n",
       "      <td>0.104139</td>\n",
       "      <td>0.145658</td>\n",
       "      <td>0.484199</td>\n",
       "      <td>0.137764</td>\n",
       "      <td>...</td>\n",
       "      <td>0.242436</td>\n",
       "      <td>0.082409</td>\n",
       "      <td>-0.012473</td>\n",
       "      <td>-0.076445</td>\n",
       "      <td>0.001633</td>\n",
       "      <td>-0.138016</td>\n",
       "      <td>0.131304</td>\n",
       "      <td>0.180328</td>\n",
       "      <td>-0.080489</td>\n",
       "      <td>-0.070156</td>\n",
       "    </tr>\n",
       "    <tr>\n",
       "      <th>Amount_invested_monthly</th>\n",
       "      <td>0.001613</td>\n",
       "      <td>0.038562</td>\n",
       "      <td>0.003261</td>\n",
       "      <td>0.501219</td>\n",
       "      <td>0.486150</td>\n",
       "      <td>-0.147166</td>\n",
       "      <td>-0.107428</td>\n",
       "      <td>-0.160446</td>\n",
       "      <td>-0.125407</td>\n",
       "      <td>-0.139072</td>\n",
       "      <td>...</td>\n",
       "      <td>1.000000</td>\n",
       "      <td>-0.193368</td>\n",
       "      <td>-0.044295</td>\n",
       "      <td>0.106503</td>\n",
       "      <td>0.001457</td>\n",
       "      <td>0.146323</td>\n",
       "      <td>-0.141282</td>\n",
       "      <td>-0.124843</td>\n",
       "      <td>0.133285</td>\n",
       "      <td>-0.015603</td>\n",
       "    </tr>\n",
       "    <tr>\n",
       "      <th>Payment_Behaviour</th>\n",
       "      <td>-0.000027</td>\n",
       "      <td>0.012368</td>\n",
       "      <td>0.004078</td>\n",
       "      <td>0.163419</td>\n",
       "      <td>0.160631</td>\n",
       "      <td>-0.035214</td>\n",
       "      <td>-0.027004</td>\n",
       "      <td>-0.045067</td>\n",
       "      <td>-0.033747</td>\n",
       "      <td>-0.035603</td>\n",
       "      <td>...</td>\n",
       "      <td>-0.193368</td>\n",
       "      <td>1.000000</td>\n",
       "      <td>0.317189</td>\n",
       "      <td>0.045539</td>\n",
       "      <td>-0.001433</td>\n",
       "      <td>0.040814</td>\n",
       "      <td>-0.038211</td>\n",
       "      <td>-0.034248</td>\n",
       "      <td>0.036928</td>\n",
       "      <td>-0.002251</td>\n",
       "    </tr>\n",
       "    <tr>\n",
       "      <th>Monthly_Balance</th>\n",
       "      <td>-0.002055</td>\n",
       "      <td>0.109684</td>\n",
       "      <td>0.002321</td>\n",
       "      <td>0.525733</td>\n",
       "      <td>0.509619</td>\n",
       "      <td>-0.298377</td>\n",
       "      <td>-0.231949</td>\n",
       "      <td>-0.328335</td>\n",
       "      <td>-0.429090</td>\n",
       "      <td>-0.289822</td>\n",
       "      <td>...</td>\n",
       "      <td>-0.044295</td>\n",
       "      <td>0.317189</td>\n",
       "      <td>1.000000</td>\n",
       "      <td>0.218952</td>\n",
       "      <td>0.000828</td>\n",
       "      <td>0.301344</td>\n",
       "      <td>-0.289549</td>\n",
       "      <td>-0.310582</td>\n",
       "      <td>0.250565</td>\n",
       "      <td>0.029705</td>\n",
       "    </tr>\n",
       "    <tr>\n",
       "      <th>Credit_Score</th>\n",
       "      <td>0.014433</td>\n",
       "      <td>0.141240</td>\n",
       "      <td>0.000413</td>\n",
       "      <td>0.189267</td>\n",
       "      <td>0.172654</td>\n",
       "      <td>-0.377794</td>\n",
       "      <td>-0.367471</td>\n",
       "      <td>-0.460342</td>\n",
       "      <td>-0.313112</td>\n",
       "      <td>-0.437192</td>\n",
       "      <td>...</td>\n",
       "      <td>0.106503</td>\n",
       "      <td>0.045539</td>\n",
       "      <td>0.218952</td>\n",
       "      <td>1.000000</td>\n",
       "      <td>0.002611</td>\n",
       "      <td>0.390192</td>\n",
       "      <td>-0.375921</td>\n",
       "      <td>-0.343868</td>\n",
       "      <td>0.355663</td>\n",
       "      <td>-0.037067</td>\n",
       "    </tr>\n",
       "    <tr>\n",
       "      <th>NM</th>\n",
       "      <td>-0.002719</td>\n",
       "      <td>-0.005756</td>\n",
       "      <td>-0.001250</td>\n",
       "      <td>0.001043</td>\n",
       "      <td>0.002060</td>\n",
       "      <td>-0.000371</td>\n",
       "      <td>-0.000452</td>\n",
       "      <td>0.004279</td>\n",
       "      <td>-0.001233</td>\n",
       "      <td>0.001652</td>\n",
       "      <td>...</td>\n",
       "      <td>0.001457</td>\n",
       "      <td>-0.001433</td>\n",
       "      <td>0.000828</td>\n",
       "      <td>0.002611</td>\n",
       "      <td>1.000000</td>\n",
       "      <td>-0.275049</td>\n",
       "      <td>-0.387000</td>\n",
       "      <td>0.001882</td>\n",
       "      <td>0.001065</td>\n",
       "      <td>-0.001153</td>\n",
       "    </tr>\n",
       "    <tr>\n",
       "      <th>No</th>\n",
       "      <td>0.001827</td>\n",
       "      <td>0.214444</td>\n",
       "      <td>0.002410</td>\n",
       "      <td>0.242409</td>\n",
       "      <td>0.225226</td>\n",
       "      <td>-0.505573</td>\n",
       "      <td>-0.341223</td>\n",
       "      <td>-0.568858</td>\n",
       "      <td>-0.410840</td>\n",
       "      <td>-0.483829</td>\n",
       "      <td>...</td>\n",
       "      <td>0.146323</td>\n",
       "      <td>0.040814</td>\n",
       "      <td>0.301344</td>\n",
       "      <td>0.390192</td>\n",
       "      <td>-0.275049</td>\n",
       "      <td>1.000000</td>\n",
       "      <td>-0.780071</td>\n",
       "      <td>-0.360492</td>\n",
       "      <td>0.618803</td>\n",
       "      <td>-0.255306</td>\n",
       "    </tr>\n",
       "    <tr>\n",
       "      <th>Yes</th>\n",
       "      <td>0.000017</td>\n",
       "      <td>-0.201921</td>\n",
       "      <td>-0.001498</td>\n",
       "      <td>-0.233167</td>\n",
       "      <td>-0.217348</td>\n",
       "      <td>0.485122</td>\n",
       "      <td>0.327551</td>\n",
       "      <td>0.542790</td>\n",
       "      <td>0.394827</td>\n",
       "      <td>0.462951</td>\n",
       "      <td>...</td>\n",
       "      <td>-0.141282</td>\n",
       "      <td>-0.038211</td>\n",
       "      <td>-0.289549</td>\n",
       "      <td>-0.375921</td>\n",
       "      <td>-0.387000</td>\n",
       "      <td>-0.780071</td>\n",
       "      <td>1.000000</td>\n",
       "      <td>0.344512</td>\n",
       "      <td>-0.594169</td>\n",
       "      <td>0.245607</td>\n",
       "    </tr>\n",
       "    <tr>\n",
       "      <th>Bad</th>\n",
       "      <td>-0.001764</td>\n",
       "      <td>-0.141591</td>\n",
       "      <td>-0.010139</td>\n",
       "      <td>-0.200448</td>\n",
       "      <td>-0.187383</td>\n",
       "      <td>0.481192</td>\n",
       "      <td>0.415507</td>\n",
       "      <td>0.509836</td>\n",
       "      <td>0.460341</td>\n",
       "      <td>0.515916</td>\n",
       "      <td>...</td>\n",
       "      <td>-0.124843</td>\n",
       "      <td>-0.034248</td>\n",
       "      <td>-0.310582</td>\n",
       "      <td>-0.343868</td>\n",
       "      <td>0.001882</td>\n",
       "      <td>-0.360492</td>\n",
       "      <td>0.344512</td>\n",
       "      <td>1.000000</td>\n",
       "      <td>-0.274581</td>\n",
       "      <td>-0.366895</td>\n",
       "    </tr>\n",
       "    <tr>\n",
       "      <th>Good</th>\n",
       "      <td>0.001368</td>\n",
       "      <td>0.160699</td>\n",
       "      <td>-0.007252</td>\n",
       "      <td>0.223561</td>\n",
       "      <td>0.207985</td>\n",
       "      <td>-0.518922</td>\n",
       "      <td>-0.298643</td>\n",
       "      <td>-0.537386</td>\n",
       "      <td>-0.316614</td>\n",
       "      <td>-0.470946</td>\n",
       "      <td>...</td>\n",
       "      <td>0.133285</td>\n",
       "      <td>0.036928</td>\n",
       "      <td>0.250565</td>\n",
       "      <td>0.355663</td>\n",
       "      <td>0.001065</td>\n",
       "      <td>0.618803</td>\n",
       "      <td>-0.594169</td>\n",
       "      <td>-0.274581</td>\n",
       "      <td>1.000000</td>\n",
       "      <td>-0.429788</td>\n",
       "    </tr>\n",
       "    <tr>\n",
       "      <th>Standard</th>\n",
       "      <td>-0.000966</td>\n",
       "      <td>-0.027426</td>\n",
       "      <td>0.013713</td>\n",
       "      <td>-0.030160</td>\n",
       "      <td>-0.027341</td>\n",
       "      <td>0.068553</td>\n",
       "      <td>-0.069419</td>\n",
       "      <td>0.063173</td>\n",
       "      <td>-0.092124</td>\n",
       "      <td>-0.000621</td>\n",
       "      <td>...</td>\n",
       "      <td>-0.015603</td>\n",
       "      <td>-0.002251</td>\n",
       "      <td>0.029705</td>\n",
       "      <td>-0.037067</td>\n",
       "      <td>-0.001153</td>\n",
       "      <td>-0.255306</td>\n",
       "      <td>0.245607</td>\n",
       "      <td>-0.366895</td>\n",
       "      <td>-0.429788</td>\n",
       "      <td>1.000000</td>\n",
       "    </tr>\n",
       "  </tbody>\n",
       "</table>\n",
       "<p>27 rows × 27 columns</p>\n",
       "</div>"
      ],
      "text/plain": [
       "                             Month       Age  Occupation  Annual_Income  \\\n",
       "Month                     1.000000  0.015086   -0.000722      -0.000146   \n",
       "Age                       0.015086  1.000000    0.010963       0.071436   \n",
       "Occupation               -0.000722  0.010963    1.000000       0.004690   \n",
       "Annual_Income            -0.000146  0.071436    0.004690       1.000000   \n",
       "Monthly_Inhand_Salary    -0.002153  0.063340    0.004877       0.863801   \n",
       "Num_Bank_Accounts        -0.001206 -0.160054    0.002757      -0.244519   \n",
       "Num_Credit_Card           0.000223 -0.117934   -0.009022      -0.178971   \n",
       "Interest_Rate             0.000696 -0.181121    0.003322      -0.258842   \n",
       "Num_of_Loan              -0.002064 -0.165175   -0.006019      -0.201363   \n",
       "Delay_from_due_date       0.000537 -0.152310   -0.005031      -0.222465   \n",
       "Num_of_Delayed_Payment    0.001977 -0.132573   -0.000195      -0.196956   \n",
       "Changed_Credit_Limit     -0.001340 -0.135998   -0.003566      -0.140516   \n",
       "Num_Credit_Inquiries      0.129388 -0.211971   -0.010288      -0.235376   \n",
       "Outstanding_Debt         -0.000066 -0.185106   -0.008663      -0.249567   \n",
       "Credit_Utilization_Ratio  0.002624  0.020460   -0.000825       0.130602   \n",
       "Credit_History_Age        0.018719  0.174745    0.008171       0.209261   \n",
       "Total_EMI_per_month       0.027075 -0.072531    0.000877       0.441441   \n",
       "Amount_invested_monthly   0.001613  0.038562    0.003261       0.501219   \n",
       "Payment_Behaviour        -0.000027  0.012368    0.004078       0.163419   \n",
       "Monthly_Balance          -0.002055  0.109684    0.002321       0.525733   \n",
       "Credit_Score              0.014433  0.141240    0.000413       0.189267   \n",
       "NM                       -0.002719 -0.005756   -0.001250       0.001043   \n",
       "No                        0.001827  0.214444    0.002410       0.242409   \n",
       "Yes                       0.000017 -0.201921   -0.001498      -0.233167   \n",
       "Bad                      -0.001764 -0.141591   -0.010139      -0.200448   \n",
       "Good                      0.001368  0.160699   -0.007252       0.223561   \n",
       "Standard                 -0.000966 -0.027426    0.013713      -0.030160   \n",
       "\n",
       "                          Monthly_Inhand_Salary  Num_Bank_Accounts  \\\n",
       "Month                                 -0.002153          -0.001206   \n",
       "Age                                    0.063340          -0.160054   \n",
       "Occupation                             0.004877           0.002757   \n",
       "Annual_Income                          0.863801          -0.244519   \n",
       "Monthly_Inhand_Salary                  1.000000          -0.224817   \n",
       "Num_Bank_Accounts                     -0.224817           1.000000   \n",
       "Num_Credit_Card                       -0.165937           0.398657   \n",
       "Interest_Rate                         -0.241093           0.553923   \n",
       "Num_of_Loan                           -0.185273           0.394190   \n",
       "Delay_from_due_date                   -0.206205           0.556410   \n",
       "Num_of_Delayed_Payment                -0.182243           0.465498   \n",
       "Changed_Credit_Limit                  -0.132973           0.284472   \n",
       "Num_Credit_Inquiries                  -0.218146           0.474147   \n",
       "Outstanding_Debt                      -0.231795           0.484406   \n",
       "Credit_Utilization_Ratio               0.123650          -0.063738   \n",
       "Credit_History_Age                     0.195654          -0.396372   \n",
       "Total_EMI_per_month                    0.424781           0.111612   \n",
       "Amount_invested_monthly                0.486150          -0.147166   \n",
       "Payment_Behaviour                      0.160631          -0.035214   \n",
       "Monthly_Balance                        0.509619          -0.298377   \n",
       "Credit_Score                           0.172654          -0.377794   \n",
       "NM                                     0.002060          -0.000371   \n",
       "No                                     0.225226          -0.505573   \n",
       "Yes                                   -0.217348           0.485122   \n",
       "Bad                                   -0.187383           0.481192   \n",
       "Good                                   0.207985          -0.518922   \n",
       "Standard                              -0.027341           0.068553   \n",
       "\n",
       "                          Num_Credit_Card  Interest_Rate  Num_of_Loan  \\\n",
       "Month                            0.000223       0.000696    -0.002064   \n",
       "Age                             -0.117934      -0.181121    -0.165175   \n",
       "Occupation                      -0.009022       0.003322    -0.006019   \n",
       "Annual_Income                   -0.178971      -0.258842    -0.201363   \n",
       "Monthly_Inhand_Salary           -0.165937      -0.241093    -0.185273   \n",
       "Num_Bank_Accounts                0.398657       0.553923     0.394190   \n",
       "Num_Credit_Card                  1.000000       0.426859     0.323371   \n",
       "Interest_Rate                    0.426859       1.000000     0.451091   \n",
       "Num_of_Loan                      0.323371       0.451091     1.000000   \n",
       "Delay_from_due_date              0.421880       0.548391     0.400669   \n",
       "Num_of_Delayed_Payment           0.313440       0.451557     0.330670   \n",
       "Changed_Credit_Limit             0.190983       0.323649     0.271903   \n",
       "Num_Credit_Inquiries             0.383813       0.560757     0.460451   \n",
       "Outstanding_Debt                 0.436316       0.584020     0.490882   \n",
       "Credit_Utilization_Ratio        -0.047125      -0.067943    -0.083302   \n",
       "Credit_History_Age              -0.317879      -0.459657    -0.439103   \n",
       "Total_EMI_per_month              0.104139       0.145658     0.484199   \n",
       "Amount_invested_monthly         -0.107428      -0.160446    -0.125407   \n",
       "Payment_Behaviour               -0.027004      -0.045067    -0.033747   \n",
       "Monthly_Balance                 -0.231949      -0.328335    -0.429090   \n",
       "Credit_Score                    -0.367471      -0.460342    -0.313112   \n",
       "NM                              -0.000452       0.004279    -0.001233   \n",
       "No                              -0.341223      -0.568858    -0.410840   \n",
       "Yes                              0.327551       0.542790     0.394827   \n",
       "Bad                              0.415507       0.509836     0.460341   \n",
       "Good                            -0.298643      -0.537386    -0.316614   \n",
       "Standard                        -0.069419       0.063173    -0.092124   \n",
       "\n",
       "                          Delay_from_due_date  ...  Amount_invested_monthly  \\\n",
       "Month                                0.000537  ...                 0.001613   \n",
       "Age                                 -0.152310  ...                 0.038562   \n",
       "Occupation                          -0.005031  ...                 0.003261   \n",
       "Annual_Income                       -0.222465  ...                 0.501219   \n",
       "Monthly_Inhand_Salary               -0.206205  ...                 0.486150   \n",
       "Num_Bank_Accounts                    0.556410  ...                -0.147166   \n",
       "Num_Credit_Card                      0.421880  ...                -0.107428   \n",
       "Interest_Rate                        0.548391  ...                -0.160446   \n",
       "Num_of_Loan                          0.400669  ...                -0.125407   \n",
       "Delay_from_due_date                  1.000000  ...                -0.139072   \n",
       "Num_of_Delayed_Payment               0.451236  ...                -0.121099   \n",
       "Changed_Credit_Limit                 0.265509  ...                -0.088020   \n",
       "Num_Credit_Inquiries                 0.483081  ...                -0.142848   \n",
       "Outstanding_Debt                     0.515481  ...                -0.151612   \n",
       "Credit_Utilization_Ratio            -0.059752  ...                 0.010504   \n",
       "Credit_History_Age                  -0.401483  ...                 0.128674   \n",
       "Total_EMI_per_month                  0.137764  ...                 0.242436   \n",
       "Amount_invested_monthly             -0.139072  ...                 1.000000   \n",
       "Payment_Behaviour                   -0.035603  ...                -0.193368   \n",
       "Monthly_Balance                     -0.289822  ...                -0.044295   \n",
       "Credit_Score                        -0.437192  ...                 0.106503   \n",
       "NM                                   0.001652  ...                 0.001457   \n",
       "No                                  -0.483829  ...                 0.146323   \n",
       "Yes                                  0.462951  ...                -0.141282   \n",
       "Bad                                  0.515916  ...                -0.124843   \n",
       "Good                                -0.470946  ...                 0.133285   \n",
       "Standard                            -0.000621  ...                -0.015603   \n",
       "\n",
       "                          Payment_Behaviour  Monthly_Balance  Credit_Score  \\\n",
       "Month                             -0.000027        -0.002055      0.014433   \n",
       "Age                                0.012368         0.109684      0.141240   \n",
       "Occupation                         0.004078         0.002321      0.000413   \n",
       "Annual_Income                      0.163419         0.525733      0.189267   \n",
       "Monthly_Inhand_Salary              0.160631         0.509619      0.172654   \n",
       "Num_Bank_Accounts                 -0.035214        -0.298377     -0.377794   \n",
       "Num_Credit_Card                   -0.027004        -0.231949     -0.367471   \n",
       "Interest_Rate                     -0.045067        -0.328335     -0.460342   \n",
       "Num_of_Loan                       -0.033747        -0.429090     -0.313112   \n",
       "Delay_from_due_date               -0.035603        -0.289822     -0.437192   \n",
       "Num_of_Delayed_Payment            -0.033900        -0.246167     -0.296424   \n",
       "Changed_Credit_Limit              -0.024573        -0.186928     -0.154960   \n",
       "Num_Credit_Inquiries              -0.040456        -0.318582     -0.407988   \n",
       "Outstanding_Debt                  -0.042083        -0.342722     -0.432487   \n",
       "Credit_Utilization_Ratio           0.083071         0.197190      0.042162   \n",
       "Credit_History_Age                 0.034802         0.296832      0.329303   \n",
       "Total_EMI_per_month                0.082409        -0.012473     -0.076445   \n",
       "Amount_invested_monthly           -0.193368        -0.044295      0.106503   \n",
       "Payment_Behaviour                  1.000000         0.317189      0.045539   \n",
       "Monthly_Balance                    0.317189         1.000000      0.218952   \n",
       "Credit_Score                       0.045539         0.218952      1.000000   \n",
       "NM                                -0.001433         0.000828      0.002611   \n",
       "No                                 0.040814         0.301344      0.390192   \n",
       "Yes                               -0.038211        -0.289549     -0.375921   \n",
       "Bad                               -0.034248        -0.310582     -0.343868   \n",
       "Good                               0.036928         0.250565      0.355663   \n",
       "Standard                          -0.002251         0.029705     -0.037067   \n",
       "\n",
       "                                NM        No       Yes       Bad      Good  \\\n",
       "Month                    -0.002719  0.001827  0.000017 -0.001764  0.001368   \n",
       "Age                      -0.005756  0.214444 -0.201921 -0.141591  0.160699   \n",
       "Occupation               -0.001250  0.002410 -0.001498 -0.010139 -0.007252   \n",
       "Annual_Income             0.001043  0.242409 -0.233167 -0.200448  0.223561   \n",
       "Monthly_Inhand_Salary     0.002060  0.225226 -0.217348 -0.187383  0.207985   \n",
       "Num_Bank_Accounts        -0.000371 -0.505573  0.485122  0.481192 -0.518922   \n",
       "Num_Credit_Card          -0.000452 -0.341223  0.327551  0.415507 -0.298643   \n",
       "Interest_Rate             0.004279 -0.568858  0.542790  0.509836 -0.537386   \n",
       "Num_of_Loan              -0.001233 -0.410840  0.394827  0.460341 -0.316614   \n",
       "Delay_from_due_date       0.001652 -0.483829  0.462951  0.515916 -0.470946   \n",
       "Num_of_Delayed_Payment   -0.000688 -0.430580  0.413404  0.421192 -0.449164   \n",
       "Changed_Credit_Limit      0.000139 -0.462483  0.443464  0.170789 -0.356393   \n",
       "Num_Credit_Inquiries      0.003099 -0.550085  0.525554  0.472070 -0.417928   \n",
       "Outstanding_Debt          0.001421 -0.458631  0.438935  0.587433 -0.348171   \n",
       "Credit_Utilization_Ratio -0.002520  0.070194 -0.065681 -0.055183  0.065060   \n",
       "Credit_History_Age        0.002983  0.451591 -0.435049 -0.418280  0.348876   \n",
       "Total_EMI_per_month       0.001633 -0.138016  0.131304  0.180328 -0.080489   \n",
       "Amount_invested_monthly   0.001457  0.146323 -0.141282 -0.124843  0.133285   \n",
       "Payment_Behaviour        -0.001433  0.040814 -0.038211 -0.034248  0.036928   \n",
       "Monthly_Balance           0.000828  0.301344 -0.289549 -0.310582  0.250565   \n",
       "Credit_Score              0.002611  0.390192 -0.375921 -0.343868  0.355663   \n",
       "NM                        1.000000 -0.275049 -0.387000  0.001882  0.001065   \n",
       "No                       -0.275049  1.000000 -0.780071 -0.360492  0.618803   \n",
       "Yes                      -0.387000 -0.780071  1.000000  0.344512 -0.594169   \n",
       "Bad                       0.001882 -0.360492  0.344512  1.000000 -0.274581   \n",
       "Good                      0.001065  0.618803 -0.594169 -0.274581  1.000000   \n",
       "Standard                 -0.001153 -0.255306  0.245607 -0.366895 -0.429788   \n",
       "\n",
       "                          Standard  \n",
       "Month                    -0.000966  \n",
       "Age                      -0.027426  \n",
       "Occupation                0.013713  \n",
       "Annual_Income            -0.030160  \n",
       "Monthly_Inhand_Salary    -0.027341  \n",
       "Num_Bank_Accounts         0.068553  \n",
       "Num_Credit_Card          -0.069419  \n",
       "Interest_Rate             0.063173  \n",
       "Num_of_Loan              -0.092124  \n",
       "Delay_from_due_date      -0.000621  \n",
       "Num_of_Delayed_Payment    0.055874  \n",
       "Changed_Credit_Limit      0.181427  \n",
       "Num_Credit_Inquiries     -0.011174  \n",
       "Outstanding_Debt         -0.167175  \n",
       "Credit_Utilization_Ratio -0.013878  \n",
       "Credit_History_Age        0.029660  \n",
       "Total_EMI_per_month      -0.070156  \n",
       "Amount_invested_monthly  -0.015603  \n",
       "Payment_Behaviour        -0.002251  \n",
       "Monthly_Balance           0.029705  \n",
       "Credit_Score             -0.037067  \n",
       "NM                       -0.001153  \n",
       "No                       -0.255306  \n",
       "Yes                       0.245607  \n",
       "Bad                      -0.366895  \n",
       "Good                     -0.429788  \n",
       "Standard                  1.000000  \n",
       "\n",
       "[27 rows x 27 columns]"
      ]
     },
     "execution_count": 384,
     "metadata": {},
     "output_type": "execute_result"
    }
   ],
   "source": [
    "train.drop('SSN', axis=1).corr(method='spearman')"
   ]
  },
  {
   "cell_type": "markdown",
   "metadata": {},
   "source": [
    "### Удалим признаки, которые плохо коррелируют с таргетом"
   ]
  },
  {
   "cell_type": "code",
   "execution_count": 385,
   "metadata": {},
   "outputs": [],
   "source": [
    "train.drop(['Month', 'Occupation', 'Credit_Utilization_Ratio', 'NM', 'Payment_Behaviour'], axis=1, inplace=True)"
   ]
  }
 ],
 "metadata": {
  "kernelspec": {
   "display_name": "scoring_venv",
   "language": "python",
   "name": "python3"
  },
  "language_info": {
   "codemirror_mode": {
    "name": "ipython",
    "version": 3
   },
   "file_extension": ".py",
   "mimetype": "text/x-python",
   "name": "python",
   "nbconvert_exporter": "python",
   "pygments_lexer": "ipython3",
   "version": "3.9.13"
  }
 },
 "nbformat": 4,
 "nbformat_minor": 2
}
