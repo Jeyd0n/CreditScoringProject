{
 "cells": [
  {
   "cell_type": "markdown",
   "metadata": {},
   "source": [
    "# Импорт библиотек"
   ]
  },
  {
   "cell_type": "code",
   "execution_count": 31,
   "metadata": {},
   "outputs": [],
   "source": [
    "import os\n",
    "from dotenv import load_dotenv\n",
    "from sqlalchemy import create_engine\n",
    "\n",
    "import pyspark\n",
    "from pyspark.sql import SparkSession\n",
    "from pyspark.sql.functions import isnan, when, count, col\n",
    "import pandas as pd\n",
    "import numpy as np\n",
    "import matplotlib.pyplot as plt\n",
    "import seaborn as sns\n",
    "import scipy.stats as st"
   ]
  },
  {
   "cell_type": "markdown",
   "metadata": {},
   "source": [
    "# Подключени к БД и выгрузка данных"
   ]
  },
  {
   "cell_type": "code",
   "execution_count": 6,
   "metadata": {},
   "outputs": [
    {
     "data": {
      "text/plain": [
       "True"
      ]
     },
     "execution_count": 6,
     "metadata": {},
     "output_type": "execute_result"
    }
   ],
   "source": [
    "load_dotenv()"
   ]
  },
  {
   "cell_type": "code",
   "execution_count": 7,
   "metadata": {},
   "outputs": [],
   "source": [
    "POSTGRESQL_KEY = os.getenv('POSTGRESQL_KEY')\n",
    "\n",
    "engine = create_engine(os.getenv('POSTGRESQL_KEY'))\n",
    "connection = engine.connect()"
   ]
  },
  {
   "cell_type": "code",
   "execution_count": 8,
   "metadata": {},
   "outputs": [],
   "source": [
    "train = pd.read_sql(\n",
    "    '''\n",
    "    SELECT *\n",
    "    FROM train_data\n",
    "    ''', \n",
    "    con=connection\n",
    ")\n",
    "\n",
    "test = pd.read_sql(\n",
    "    '''\n",
    "    SELECT *\n",
    "    FROM test_data\n",
    "    ''', \n",
    "    con=connection\n",
    ")"
   ]
  },
  {
   "cell_type": "code",
   "execution_count": 9,
   "metadata": {},
   "outputs": [],
   "source": [
    "connection.close()"
   ]
  },
  {
   "cell_type": "code",
   "execution_count": 10,
   "metadata": {},
   "outputs": [
    {
     "name": "stderr",
     "output_type": "stream",
     "text": [
      "23/10/27 00:35:29 WARN Utils: Your hostname, MacBook-Air-Vladimir.local resolves to a loopback address: 127.0.0.1; using 192.168.1.37 instead (on interface en0)\n",
      "23/10/27 00:35:29 WARN Utils: Set SPARK_LOCAL_IP if you need to bind to another address\n",
      "Setting default log level to \"WARN\".\n",
      "To adjust logging level use sc.setLogLevel(newLevel). For SparkR, use setLogLevel(newLevel).\n",
      "23/10/27 00:35:29 WARN NativeCodeLoader: Unable to load native-hadoop library for your platform... using builtin-java classes where applicable\n"
     ]
    }
   ],
   "source": [
    "spark = SparkSession.builder.master(\"local\").appName(\"Credit Scoring\").getOrCreate()"
   ]
  },
  {
   "cell_type": "code",
   "execution_count": 11,
   "metadata": {},
   "outputs": [
    {
     "name": "stderr",
     "output_type": "stream",
     "text": [
      "/Users/vladimir/Desktop/GitHub/CreditScroingProject/scoring_venv/lib/python3.9/site-packages/pyspark/sql/pandas/conversion.py:485: FutureWarning: is_datetime64tz_dtype is deprecated and will be removed in a future version. Check `isinstance(dtype, pd.DatetimeTZDtype)` instead.\n",
      "  if should_localize and is_datetime64tz_dtype(s.dtype) and s.dt.tz is not None:\n"
     ]
    }
   ],
   "source": [
    "train, test = spark.createDataFrame(train), spark.createDataFrame(test)"
   ]
  },
  {
   "cell_type": "markdown",
   "metadata": {},
   "source": [
    "# Data Overview"
   ]
  },
  {
   "cell_type": "code",
   "execution_count": 21,
   "metadata": {},
   "outputs": [
    {
     "name": "stderr",
     "output_type": "stream",
     "text": [
      "23/10/27 00:40:10 WARN TaskSetManager: Stage 12 contains a task of very large size (32598 KiB). The maximum recommended task size is 1000 KiB.\n",
      "[Stage 12:>                                                         (0 + 1) / 1]\r"
     ]
    },
    {
     "name": "stdout",
     "output_type": "stream",
     "text": [
      "+------+-----------+--------+---------------+----+-----------+----------+-------------+---------------------+-----------------+---------------+-------------+-----------+-------------------------------------------------------------------+-------------------+----------------------+--------------------+--------------------+----------+----------------+------------------------+----------------------+---------------------+-------------------+-----------------------+--------------------------------+------------------+------------+\n",
      "|ID    |Customer_ID|Month   |Name           |Age |SSN        |Occupation|Annual_Income|Monthly_Inhand_Salary|Num_Bank_Accounts|Num_Credit_Card|Interest_Rate|Num_of_Loan|Type_of_Loan                                                       |Delay_from_due_date|Num_of_Delayed_Payment|Changed_Credit_Limit|Num_Credit_Inquiries|Credit_Mix|Outstanding_Debt|Credit_Utilization_Ratio|Credit_History_Age    |Payment_of_Min_Amount|Total_EMI_per_month|Amount_invested_monthly|Payment_Behaviour               |Monthly_Balance   |Credit_Score|\n",
      "+------+-----------+--------+---------------+----+-----------+----------+-------------+---------------------+-----------------+---------------+-------------+-----------+-------------------------------------------------------------------+-------------------+----------------------+--------------------+--------------------+----------+----------------+------------------------+----------------------+---------------------+-------------------+-----------------------+--------------------------------+------------------+------------+\n",
      "|0x1602|CUS_0xd40  |January |Aaron Maashoh  |23  |821-00-0265|Scientist |19114.12     |1824.8433333333328   |3                |4              |3            |4          |Auto Loan, Credit-Builder Loan, Personal Loan, and Home Equity Loan|3                  |7                     |11.27               |4.0                 |_         |809.98          |26.822619623699016      |22 Years and 1 Months |No                   |49.57494921489417  |80.41529543900253      |High_spent_Small_value_payments |312.49408867943663|Good        |\n",
      "|0x1603|CUS_0xd40  |February|Aaron Maashoh  |23  |821-00-0265|Scientist |19114.12     |NaN                  |3                |4              |3            |4          |Auto Loan, Credit-Builder Loan, Personal Loan, and Home Equity Loan|-1                 |NULL                  |11.27               |4.0                 |Good      |809.98          |31.94496005538421       |NULL                  |No                   |49.57494921489417  |118.28022162236736     |Low_spent_Large_value_payments  |284.62916249607184|Good        |\n",
      "|0x1604|CUS_0xd40  |March   |Aaron Maashoh  |-500|821-00-0265|Scientist |19114.12     |NaN                  |3                |4              |3            |4          |Auto Loan, Credit-Builder Loan, Personal Loan, and Home Equity Loan|3                  |7                     |_                   |4.0                 |Good      |809.98          |28.60935202206993       |22 Years and 3 Months |No                   |49.57494921489417  |81.699521264648        |Low_spent_Medium_value_payments |331.2098628537912 |Good        |\n",
      "|0x1605|CUS_0xd40  |April   |Aaron Maashoh  |23  |821-00-0265|Scientist |19114.12     |NaN                  |3                |4              |3            |4          |Auto Loan, Credit-Builder Loan, Personal Loan, and Home Equity Loan|5                  |4                     |6.27                |4.0                 |Good      |809.98          |31.377861869582357      |22 Years and 4 Months |No                   |49.57494921489417  |199.4580743910713      |Low_spent_Small_value_payments  |223.45130972736786|Good        |\n",
      "|0x1606|CUS_0xd40  |May     |Aaron Maashoh  |23  |821-00-0265|Scientist |19114.12     |1824.8433333333328   |3                |4              |3            |4          |Auto Loan, Credit-Builder Loan, Personal Loan, and Home Equity Loan|6                  |NULL                  |11.27               |4.0                 |Good      |809.98          |24.797346908844982      |22 Years and 5 Months |No                   |49.57494921489417  |41.420153086217326     |High_spent_Medium_value_payments|341.48923103222177|Good        |\n",
      "|0x1607|CUS_0xd40  |June    |Aaron Maashoh  |23  |821-00-0265|Scientist |19114.12     |NaN                  |3                |4              |3            |4          |Auto Loan, Credit-Builder Loan, Personal Loan, and Home Equity Loan|8                  |4                     |9.27                |4.0                 |Good      |809.98          |27.26225871052017       |22 Years and 6 Months |No                   |49.57494921489417  |62.430172331195294     |!@9#%8                          |340.4792117872438 |Good        |\n",
      "|0x1608|CUS_0xd40  |July    |Aaron Maashoh  |23  |821-00-0265|Scientist |19114.12     |1824.8433333333328   |3                |4              |3            |4          |Auto Loan, Credit-Builder Loan, Personal Loan, and Home Equity Loan|3                  |8_                    |11.27               |4.0                 |Good      |809.98          |22.53759303178384       |22 Years and 7 Months |No                   |49.57494921489417  |178.3440674122349      |Low_spent_Small_value_payments  |244.5653167062043 |Good        |\n",
      "|0x1609|CUS_0xd40  |August  |NULL           |23  |#F%$D@*&8  |Scientist |19114.12     |1824.8433333333328   |3                |4              |3            |4          |Auto Loan, Credit-Builder Loan, Personal Loan, and Home Equity Loan|3                  |6                     |11.27               |4.0                 |Good      |809.98          |23.93379480196552       |NULL                  |No                   |49.57494921489417  |24.785216509052056     |High_spent_Medium_value_payments|358.12416760938714|Standard    |\n",
      "|0x160e|CUS_0x21b1 |January |Rick Rothackerj|28_ |004-07-5839|_______   |34847.84     |3037.986666666666    |2                |4              |6            |1          |Credit-Builder Loan                                                |3                  |4                     |5.42                |2.0                 |Good      |605.03          |24.46403063758457       |26 Years and 7 Months |No                   |18.816214573128885 |104.291825168246       |Low_spent_Small_value_payments  |470.69062692529184|Standard    |\n",
      "|0x160f|CUS_0x21b1 |February|Rick Rothackerj|28  |004-07-5839|Teacher   |34847.84     |3037.986666666666    |2                |4              |6            |1          |Credit-Builder Loan                                                |7                  |1                     |7.42                |2.0                 |Good      |605.03          |38.550848433956325      |26 Years and 8 Months |No                   |18.816214573128885 |40.39123782853101      |High_spent_Large_value_payments |484.5912142650067 |Good        |\n",
      "|0x1610|CUS_0x21b1 |March   |Rick Rothackerj|28  |004-07-5839|Teacher   |34847.84_    |3037.986666666666    |2                |1385           |6            |1          |Credit-Builder Loan                                                |3                  |-1                    |5.42                |2.0                 |_         |605.03          |33.22495078663659       |26 Years and 9 Months |No                   |18.816214573128885 |58.51597569589465      |High_spent_Large_value_payments |466.46647639764313|Standard    |\n",
      "|0x1611|CUS_0x21b1 |April   |Rick Rothackerj|28  |004-07-5839|Teacher   |34847.84     |NaN                  |2                |4              |6            |1          |Credit-Builder Loan                                                |3                  |3_                    |5.42                |2.0                 |Good      |605.03          |39.18265565546884       |26 Years and 10 Months|No                   |18.816214573128885 |99.30622796053305      |Low_spent_Medium_value_payments |465.6762241330048 |Good        |\n",
      "|0x1612|CUS_0x21b1 |May     |Rick Rothackerj|28  |004-07-5839|Teacher   |34847.84     |3037.986666666666    |2                |4              |6            |1          |Credit-Builder Loan                                                |3                  |1                     |6.42                |2.0                 |Good      |605.03          |34.97789474709241       |26 Years and 11 Months|No                   |18.816214573128885 |130.11542024292334     |Low_spent_Small_value_payments  |444.8670318506144 |Good        |\n",
      "|0x1613|CUS_0x21b1 |June    |Rick Rothackerj|28  |004-07-5839|Teacher   |34847.84     |3037.986666666666    |2                |4              |6            |1          |Credit-Builder Loan                                                |3                  |0                     |5.42                |2.0                 |Good      |605.03          |33.38101020065065       |27 Years and 0 Months |No                   |18.816214573128885 |43.477190144355745     |High_spent_Large_value_payments |481.505261949182  |Good        |\n",
      "|0x1614|CUS_0x21b1 |July    |Rick Rothackerj|28  |004-07-5839|Teacher   |34847.84     |NaN                  |2                |4              |6            |1          |Credit-Builder Loan                                                |3                  |4                     |5.42                |2.0                 |Good      |605.03          |31.131701611553307      |27 Years and 1 Months |NM                   |18.816214573128885 |70.10177420755677      |High_spent_Medium_value_payments|464.8806778859809 |Good        |\n",
      "|0x1615|CUS_0x21b1 |August  |Rick Rothackerj|28  |004-07-5839|Teacher   |34847.84     |3037.986666666666    |2                |4              |6            |1          |Credit-Builder Loan                                                |3                  |4                     |5.42                |2.0                 |Good      |605.03          |32.933856293622235      |27 Years and 2 Months |No                   |18.816214573128885 |218.90434353388733     |Low_spent_Small_value_payments  |356.07810855965045|Good        |\n",
      "|0x161a|CUS_0x2dbc |January |Langep         |34  |486-85-3974|_______   |143162.64    |12187.22             |1                |5              |8            |3          |Auto Loan, Auto Loan, and Not Specified                            |5                  |8                     |7.1                 |3.0                 |Good      |1303.01         |28.616734823006844      |17 Years and 9 Months |No                   |246.9923194537421  |168.413702679309       |!@9#%8                          |1043.3159778669492|Good        |\n",
      "|0x161b|CUS_0x2dbc |February|NULL           |34  |486-85-3974|Engineer  |143162.64    |12187.22             |1                |5              |8            |3          |Auto Loan, Auto Loan, and Not Specified                            |13                 |6                     |7.1                 |3.0                 |Good      |1303.01         |41.70257342393906       |17 Years and 10 Months|No                   |246.9923194537421  |232.86038375993544     |High_spent_Small_value_payments |998.8692967863226 |Good        |\n",
      "|0x161c|CUS_0x2dbc |March   |Langep         |34  |486-85-3974|_______   |143162.64    |NaN                  |1                |5              |8            |3          |Auto Loan, Auto Loan, and Not Specified                            |8                  |7                     |11.1                |NaN                 |Good      |1303.01         |26.519815391546494      |17 Years and 11 Months|No                   |246.9923194537421  |__10000__              |High_spent_Small_value_payments |715.741367403555  |Good        |\n",
      "|0x161d|CUS_0x2dbc |April   |Langep         |34  |486-85-3974|Engineer  |143162.64    |12187.22             |1                |5              |8            |3          |Auto Loan, Auto Loan, and Not Specified                            |8                  |5                     |9.1                 |3.0                 |_         |1303.01         |39.50164810812735       |NULL                  |No                   |246.9923194537421  |825.2162699393922      |Low_spent_Medium_value_payments |426.5134106068658 |Good        |\n",
      "+------+-----------+--------+---------------+----+-----------+----------+-------------+---------------------+-----------------+---------------+-------------+-----------+-------------------------------------------------------------------+-------------------+----------------------+--------------------+--------------------+----------+----------------+------------------------+----------------------+---------------------+-------------------+-----------------------+--------------------------------+------------------+------------+\n",
      "only showing top 20 rows\n",
      "\n"
     ]
    },
    {
     "name": "stderr",
     "output_type": "stream",
     "text": [
      "23/10/27 00:40:14 WARN PythonRunner: Detected deadlock while completing task 0.0 in stage 12 (TID 10): Attempting to kill Python Worker\n",
      "                                                                                \r"
     ]
    }
   ],
   "source": [
    "train.show(truncate=False)"
   ]
  },
  {
   "cell_type": "code",
   "execution_count": 12,
   "metadata": {},
   "outputs": [
    {
     "name": "stdout",
     "output_type": "stream",
     "text": [
      "root\n",
      " |-- ID: string (nullable = true)\n",
      " |-- Customer_ID: string (nullable = true)\n",
      " |-- Month: string (nullable = true)\n",
      " |-- Name: string (nullable = true)\n",
      " |-- Age: string (nullable = true)\n",
      " |-- SSN: string (nullable = true)\n",
      " |-- Occupation: string (nullable = true)\n",
      " |-- Annual_Income: string (nullable = true)\n",
      " |-- Monthly_Inhand_Salary: double (nullable = true)\n",
      " |-- Num_Bank_Accounts: long (nullable = true)\n",
      " |-- Num_Credit_Card: long (nullable = true)\n",
      " |-- Interest_Rate: long (nullable = true)\n",
      " |-- Num_of_Loan: string (nullable = true)\n",
      " |-- Type_of_Loan: string (nullable = true)\n",
      " |-- Delay_from_due_date: long (nullable = true)\n",
      " |-- Num_of_Delayed_Payment: string (nullable = true)\n",
      " |-- Changed_Credit_Limit: string (nullable = true)\n",
      " |-- Num_Credit_Inquiries: double (nullable = true)\n",
      " |-- Credit_Mix: string (nullable = true)\n",
      " |-- Outstanding_Debt: string (nullable = true)\n",
      " |-- Credit_Utilization_Ratio: double (nullable = true)\n",
      " |-- Credit_History_Age: string (nullable = true)\n",
      " |-- Payment_of_Min_Amount: string (nullable = true)\n",
      " |-- Total_EMI_per_month: double (nullable = true)\n",
      " |-- Amount_invested_monthly: string (nullable = true)\n",
      " |-- Payment_Behaviour: string (nullable = true)\n",
      " |-- Monthly_Balance: string (nullable = true)\n",
      " |-- Credit_Score: string (nullable = true)\n",
      "\n"
     ]
    }
   ],
   "source": [
    "train.printSchema()"
   ]
  },
  {
   "cell_type": "markdown",
   "metadata": {},
   "source": [
    "### В нашем наборе данных преобладают текстовые данные\n",
    "### Основной задачей будет преобразовать эти данные таким образом, чтобы количество колонок в датасете не стало слишком большим"
   ]
  },
  {
   "cell_type": "code",
   "execution_count": 29,
   "metadata": {},
   "outputs": [
    {
     "name": "stderr",
     "output_type": "stream",
     "text": [
      "23/10/27 01:02:50 WARN TaskSetManager: Stage 19 contains a task of very large size (32598 KiB). The maximum recommended task size is 1000 KiB.\n",
      "[Stage 19:>                                                         (0 + 1) / 1]\r"
     ]
    },
    {
     "name": "stdout",
     "output_type": "stream",
     "text": [
      "+-------+-------+-----------+------+------+------------------+-----------+----------+------------------+---------------------+------------------+------------------+------------------+-----------------+--------------------+-------------------+----------------------+--------------------+--------------------+----------+------------------+------------------------+--------------------+---------------------+-------------------+-----------------------+--------------------+--------------------+------------+\n",
      "|summary|     ID|Customer_ID| Month|  Name|               Age|        SSN|Occupation|     Annual_Income|Monthly_Inhand_Salary| Num_Bank_Accounts|   Num_Credit_Card|     Interest_Rate|      Num_of_Loan|        Type_of_Loan|Delay_from_due_date|Num_of_Delayed_Payment|Changed_Credit_Limit|Num_Credit_Inquiries|Credit_Mix|  Outstanding_Debt|Credit_Utilization_Ratio|  Credit_History_Age|Payment_of_Min_Amount|Total_EMI_per_month|Amount_invested_monthly|   Payment_Behaviour|     Monthly_Balance|Credit_Score|\n",
      "+-------+-------+-----------+------+------+------------------+-----------+----------+------------------+---------------------+------------------+------------------+------------------+-----------------+--------------------+-------------------+----------------------+--------------------+--------------------+----------+------------------+------------------------+--------------------+---------------------+-------------------+-----------------------+--------------------+--------------------+------------+\n",
      "|  count| 100000|     100000|100000| 90015|            100000|     100000|    100000|            100000|               100000|            100000|            100000|            100000|           100000|               88592|             100000|                 92998|              100000|              100000|    100000|            100000|                  100000|               90970|               100000|             100000|                  95521|              100000|               98800|      100000|\n",
      "|   mean|   NULL|       NULL|  NULL|  NULL|110.93450521244253|       NULL|      NULL|178578.96419941323|                  NaN|          17.09128|          22.47443|          72.46604|2.780339232263824|                NULL|           21.06878|    31.033051166707292|  10.389025115157756|                 NaN|      NULL|1426.5037001343708|      32.285172518943455|                NULL|                 NULL|  1403.118216615935|     195.53945602655142|                NULL|  402.55125811051715|        NULL|\n",
      "| stddev|   NULL|       NULL|  NULL|  NULL| 689.4078643530404|       NULL|      NULL|1442878.3889694393|                  NaN|117.40483442734742|129.05741011009982|466.42262122171866|62.50094029960776|                NULL| 14.860104223678075|     226.9557577704452|   6.789496202377785|                 NaN|      NULL|1155.0457527707713|       5.116875070150881|                NULL|                 NULL|  8306.041270321679|     199.56452699813423|                NULL|   213.9254989310261|        NULL|\n",
      "|    min|0x10002| CUS_0x1000| April| Mattr|              -500|  #F%$D@*&8|Accountant|        10001727.0|    303.6454166666666|                -1|                 0|                 1|             -100|           Auto Loan|                 -5|                    -1|-0.00999999999999...|                 0.0|       Bad|              0.23|                    20.0|0 Years and 1 Months|                   NM|                0.0|                    0.0|              !@9#%8|0.007759664775335295|        Good|\n",
      "|    max| 0xfffd|  CUS_0xffd|   May|    yv|               995|999-99-3421|   _______|          99995.22|                  NaN|              1798|              1499|              5797|               9_|Student Loan, and...|                 67|                    9_|                   _|                 NaN|         _|            999.48|       50.00000000000001|9 Years and 9 Months|                  Yes|            82331.0|              __10000__|Low_spent_Small_v...|__-33333333333333...|    Standard|\n",
      "+-------+-------+-----------+------+------+------------------+-----------+----------+------------------+---------------------+------------------+------------------+------------------+-----------------+--------------------+-------------------+----------------------+--------------------+--------------------+----------+------------------+------------------------+--------------------+---------------------+-------------------+-----------------------+--------------------+--------------------+------------+\n",
      "\n"
     ]
    },
    {
     "name": "stderr",
     "output_type": "stream",
     "text": [
      "                                                                                \r"
     ]
    }
   ],
   "source": [
    "train.describe().show()"
   ]
  },
  {
   "cell_type": "code",
   "execution_count": 35,
   "metadata": {},
   "outputs": [
    {
     "name": "stderr",
     "output_type": "stream",
     "text": [
      "23/10/27 01:13:07 WARN TaskSetManager: Stage 25 contains a task of very large size (32598 KiB). The maximum recommended task size is 1000 KiB.\n",
      "[Stage 25:>                                                         (0 + 1) / 1]\r"
     ]
    },
    {
     "name": "stdout",
     "output_type": "stream",
     "text": [
      "+---+-----------+-----+----+---+---+----------+-------------+---------------------+-----------------+---------------+-------------+-----------+------------+-------------------+----------------------+--------------------+--------------------+----------+----------------+------------------------+------------------+---------------------+-------------------+-----------------------+-----------------+---------------+------------+\n",
      "|ID |Customer_ID|Month|Name|Age|SSN|Occupation|Annual_Income|Monthly_Inhand_Salary|Num_Bank_Accounts|Num_Credit_Card|Interest_Rate|Num_of_Loan|Type_of_Loan|Delay_from_due_date|Num_of_Delayed_Payment|Changed_Credit_Limit|Num_Credit_Inquiries|Credit_Mix|Outstanding_Debt|Credit_Utilization_Ratio|Credit_History_Age|Payment_of_Min_Amount|Total_EMI_per_month|Amount_invested_monthly|Payment_Behaviour|Monthly_Balance|Credit_Score|\n",
      "+---+-----------+-----+----+---+---+----------+-------------+---------------------+-----------------+---------------+-------------+-----------+------------+-------------------+----------------------+--------------------+--------------------+----------+----------------+------------------------+------------------+---------------------+-------------------+-----------------------+-----------------+---------------+------------+\n",
      "|0  |0          |0    |9985|0  |0  |0         |0            |15002                |0                |0              |0            |0          |11408       |0                  |7002                  |0                   |1965                |0         |0               |0                       |9030              |0                    |0                  |4479                   |0                |1200           |0           |\n",
      "+---+-----------+-----+----+---+---+----------+-------------+---------------------+-----------------+---------------+-------------+-----------+------------+-------------------+----------------------+--------------------+--------------------+----------+----------------+------------------------+------------------+---------------------+-------------------+-----------------------+-----------------+---------------+------------+\n",
      "\n"
     ]
    },
    {
     "name": "stderr",
     "output_type": "stream",
     "text": [
      "                                                                                \r"
     ]
    }
   ],
   "source": [
    "train.select([count(when(isnan(c) | col(c).isNull(), c)).alias(c) for c in train.columns]).show(truncate=False)"
   ]
  },
  {
   "cell_type": "markdown",
   "metadata": {},
   "source": [
    "### Относительно небольшое количество пропусков"
   ]
  }
 ],
 "metadata": {
  "kernelspec": {
   "display_name": "scoring_venv",
   "language": "python",
   "name": "python3"
  },
  "language_info": {
   "codemirror_mode": {
    "name": "ipython",
    "version": 3
   },
   "file_extension": ".py",
   "mimetype": "text/x-python",
   "name": "python",
   "nbconvert_exporter": "python",
   "pygments_lexer": "ipython3",
   "version": "3.9.13"
  }
 },
 "nbformat": 4,
 "nbformat_minor": 2
}
